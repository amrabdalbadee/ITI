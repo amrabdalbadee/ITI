{
 "cells": [
  {
   "cell_type": "markdown",
   "metadata": {
    "id": "dd5fdc2a"
   },
   "source": [
    "## Linear Combination\n",
    "### Use NumPy"
   ]
  },
  {
   "cell_type": "markdown",
   "metadata": {
    "id": "38364291"
   },
   "source": [
    "$$v_1=\\begin{bmatrix} 1 \\\\ 2 \\\\ 3 \\end{bmatrix},\n",
    "v_2=\\begin{bmatrix} 3 \\\\ 5 \\\\ 1 \\end{bmatrix},\n",
    "v_3=\\begin{bmatrix} 0 \\\\ 0 \\\\ 8 \\end{bmatrix}$$\n",
    "- Find <b>b</b> vector where $$b=3v_1+0v_2+0v_3$$\n",
    "- Find <b>x</b> vector where $$x=-v_1+v_2-0.5v_3$$"
   ]
  },
  {
   "cell_type": "code",
   "execution_count": null,
   "metadata": {
    "colab": {
     "base_uri": "https://localhost:8080/"
    },
    "id": "fe0eb854",
    "outputId": "1254f9b1-5a18-4e62-ae5b-6b1e47771074"
   },
   "outputs": [
    {
     "name": "stdout",
     "output_type": "stream",
     "text": [
      "[[3]\n",
      " [6]\n",
      " [9]]\n"
     ]
    }
   ],
   "source": [
    "import numpy as np \n",
    "import sympy as sm\n",
    "\n",
    "b = 3*np.array([[1],[2],[3]])\n",
    "print(b)"
   ]
  },
  {
   "cell_type": "code",
   "execution_count": null,
   "metadata": {
    "colab": {
     "base_uri": "https://localhost:8080/"
    },
    "id": "22yV4xqGD0cE",
    "outputId": "44b7af0f-3b2c-40d3-e7e5-c55be2e87871"
   },
   "outputs": [
    {
     "name": "stdout",
     "output_type": "stream",
     "text": [
      "[[ 2.]\n",
      " [ 3.]\n",
      " [-6.]]\n"
     ]
    }
   ],
   "source": [
    "x = -1*np.array([[1],[2],[3]]) + np.array([[3],[5],[1]]) -0.5*np.array([[0],[0],[8]])\n",
    "print(x)"
   ]
  },
  {
   "cell_type": "markdown",
   "metadata": {
    "id": "54955382"
   },
   "source": [
    "## Vector Span\n",
    "### Use Numpy (matrix inverse) and SymPy (rref)"
   ]
  },
  {
   "cell_type": "markdown",
   "metadata": {
    "id": "9d440a16"
   },
   "source": [
    "#### Is $$v=\\begin{bmatrix} 19 \\\\ 10 \\\\ -1 \\end{bmatrix}$$ in the span of \n",
    "$$v_1=\\begin{bmatrix} 3 \\\\ -1 \\\\ 2 \\end{bmatrix},\n",
    "v_2=\\begin{bmatrix} -5 \\\\ 0 \\\\ 1 \\end{bmatrix},\n",
    "v_3=\\begin{bmatrix} 1 \\\\ 7 \\\\ -4 \\end{bmatrix}$$"
   ]
  },
  {
   "cell_type": "code",
   "execution_count": null,
   "metadata": {
    "colab": {
     "base_uri": "https://localhost:8080/"
    },
    "id": "6da888d4",
    "outputId": "3dff98dc-d6ee-488c-dff2-b8102d8ec50b"
   },
   "outputs": [
    {
     "data": {
      "text/plain": [
       "(Matrix([\n",
       " [1, 0, 0,  4],\n",
       " [0, 1, 0, -1],\n",
       " [0, 0, 1,  2]]), (0, 1, 2))"
      ]
     },
     "execution_count": 4,
     "metadata": {},
     "output_type": "execute_result"
    }
   ],
   "source": [
    "v = sm.Matrix(np.array([[3,-5,1,19],[-1,0,7,10],[2,1,-4,-1]]))\n",
    "v.rref()"
   ]
  },
  {
   "cell_type": "code",
   "execution_count": null,
   "metadata": {
    "colab": {
     "base_uri": "https://localhost:8080/",
     "height": 78
    },
    "id": "f0d48b0c",
    "outputId": "dc2bd7a2-859c-44d7-adcf-5a13a24704bf"
   },
   "outputs": [
    {
     "data": {
      "text/latex": [
       "$\\displaystyle \\left[\\begin{matrix}4\\\\-1\\\\2\\end{matrix}\\right]$"
      ],
      "text/plain": [
       "Matrix([\n",
       "[ 4],\n",
       "[-1],\n",
       "[ 2]])"
      ]
     },
     "execution_count": 10,
     "metadata": {},
     "output_type": "execute_result"
    }
   ],
   "source": [
    "v.rref()[0][:,-1]"
   ]
  },
  {
   "cell_type": "markdown",
   "metadata": {
    "id": "821a71ae"
   },
   "source": [
    "## Vector Linear Independence\n",
    "### Use rref and determinant\n",
    "- Consider the following sets of vectors in R3. If the set is independent, prove it. \n",
    "- If the set is dependent, find a nontrivial linear combination of the vectors which is equal to 0.\n",
    "    - {(2, 0, -3), (1, 1, 1), (1, 7, 2)}.\n",
    "    - {(1, 2, -1), (4, 1, 3), (-10, 1, -11)}.\n",
    "\n",
    "<b>Hint: we have to determine whether this implies that 𝒂=𝒃=𝒄=𝟎.</b>"
   ]
  },
  {
   "cell_type": "code",
   "execution_count": null,
   "metadata": {
    "id": "51c3ffd9"
   },
   "outputs": [],
   "source": [
    "M = sm.Matrix([[2,1,1,0],\n",
    "            [0,1,7,0],\n",
    "            [-3,1,2,0]])"
   ]
  },
  {
   "cell_type": "code",
   "execution_count": null,
   "metadata": {
    "colab": {
     "base_uri": "https://localhost:8080/"
    },
    "id": "a72c7e98",
    "outputId": "445e90e0-4f36-46d5-ac58-52d890010d50"
   },
   "outputs": [
    {
     "data": {
      "text/plain": [
       "(Matrix([\n",
       " [1, 0, 0, 0],\n",
       " [0, 1, 0, 0],\n",
       " [0, 0, 1, 0]]), (0, 1, 2))"
      ]
     },
     "execution_count": 16,
     "metadata": {},
     "output_type": "execute_result"
    }
   ],
   "source": [
    "M.rref()"
   ]
  },
  {
   "cell_type": "code",
   "execution_count": null,
   "metadata": {
    "colab": {
     "base_uri": "https://localhost:8080/"
    },
    "id": "7UwwRcgIKolN",
    "outputId": "6aed3ff1-d8dc-4f3a-bb11-a9556ac0ab76"
   },
   "outputs": [
    {
     "data": {
      "text/plain": [
       "-28.00000000000001"
      ]
     },
     "execution_count": 26,
     "metadata": {},
     "output_type": "execute_result"
    }
   ],
   "source": [
    "N = np.array([[2,1,1],\n",
    "            [0,1,7],\n",
    "            [-3,1,2]])\n",
    "np.linalg.det(N)"
   ]
  },
  {
   "cell_type": "code",
   "execution_count": null,
   "metadata": {
    "id": "ddef10e0"
   },
   "outputs": [],
   "source": [
    "M = sm.Matrix([[1,4,-10,0],\n",
    "            [2,1,1,0],\n",
    "            [-1,3,-11,0]])"
   ]
  },
  {
   "cell_type": "code",
   "execution_count": null,
   "metadata": {
    "colab": {
     "base_uri": "https://localhost:8080/"
    },
    "id": "e094ea5c",
    "outputId": "daa3d9f1-bd1f-4ffa-9768-5d3b8ad9dd05"
   },
   "outputs": [
    {
     "data": {
      "text/plain": [
       "(Matrix([\n",
       " [1, 0,  2, 0],\n",
       " [0, 1, -3, 0],\n",
       " [0, 0,  0, 0]]), (0, 1))"
      ]
     },
     "execution_count": 18,
     "metadata": {},
     "output_type": "execute_result"
    }
   ],
   "source": [
    "M.rref()"
   ]
  },
  {
   "cell_type": "code",
   "execution_count": null,
   "metadata": {
    "colab": {
     "base_uri": "https://localhost:8080/"
    },
    "id": "JoR7IgXlLKL9",
    "outputId": "2bfc7c67-3554-44c3-fc5e-f406fefa0c50"
   },
   "outputs": [
    {
     "data": {
      "text/plain": [
       "0.0"
      ]
     },
     "execution_count": 28,
     "metadata": {},
     "output_type": "execute_result"
    }
   ],
   "source": [
    "N = np.array([[1,4,-10],\n",
    "            [2,1,1],\n",
    "            [-1,3,-11]])\n",
    "np.linalg.det(N)"
   ]
  },
  {
   "cell_type": "markdown",
   "metadata": {
    "id": "c88fb001"
   },
   "source": [
    "## Linear Transformation\n",
    "### Ex.1"
   ]
  },
  {
   "cell_type": "markdown",
   "metadata": {
    "id": "9ef341fd"
   },
   "source": [
    "$$T=\\begin{bmatrix} 1&2 \\\\ 3&7 \\end{bmatrix}$$\n",
    "- Write the linear transformation expression of this matrix. i.e. Linear functions of x,y. \n",
    "- Apply the transformation matrix <b>T</b> to the following vectors:\n",
    "$$\\begin{bmatrix} 1 \\\\ 0 \\end{bmatrix},\\begin{bmatrix} 0 \\\\ 1 \\end{bmatrix} $$\n",
    "- Find all points <b>(x,y)</b> such that <b>T(x,y)=(1,0)</b>"
   ]
  },
  {
   "cell_type": "code",
   "execution_count": null,
   "metadata": {
    "id": "66bZZez1KhlA"
   },
   "outputs": [],
   "source": [
    "T = np.array([[1,2],[3,7]])\n",
    "v1 = np.array([[1],[0]])\n",
    "v2 = np.array([[0],[1]])"
   ]
  },
  {
   "cell_type": "code",
   "execution_count": null,
   "metadata": {
    "colab": {
     "base_uri": "https://localhost:8080/"
    },
    "id": "d3e46a3d",
    "outputId": "290ef4b4-ec10-4d47-eaba-efb21fa379f3"
   },
   "outputs": [
    {
     "name": "stdout",
     "output_type": "stream",
     "text": [
      "[[1]\n",
      " [3]]\n",
      "[[2]\n",
      " [7]]\n"
     ]
    }
   ],
   "source": [
    "print(T@v1)\n",
    "print(T@v2)"
   ]
  },
  {
   "cell_type": "code",
   "execution_count": null,
   "metadata": {
    "colab": {
     "base_uri": "https://localhost:8080/"
    },
    "id": "5e4bdf4e",
    "outputId": "dc2af181-b53b-4acc-cdea-d6b56146cebb"
   },
   "outputs": [
    {
     "data": {
      "text/plain": [
       "array([[ 7.],\n",
       "       [-3.]])"
      ]
     },
     "execution_count": 36,
     "metadata": {},
     "output_type": "execute_result"
    }
   ],
   "source": [
    "np.linalg.inv(T)@v1"
   ]
  },
  {
   "cell_type": "markdown",
   "metadata": {
    "id": "aa9f63c6"
   },
   "source": [
    "### Ex.2\n",
    "### For the expression $$T\\begin{bmatrix} x \\\\ y \\end{bmatrix}=\\begin{bmatrix} x+y \\\\ y \\end{bmatrix}$$\n",
    "- Find the transformation matrix.\n",
    "- Represent the transformation graphically <b>(on paper)</b>.\n",
    "- Find all points <b>(x,y)</b> such that <b>T(x,y)=(3,4)</b>"
   ]
  },
  {
   "cell_type": "code",
   "execution_count": null,
   "metadata": {
    "colab": {
     "base_uri": "https://localhost:8080/"
    },
    "id": "gXt7dO7AREh-",
    "outputId": "894bcdf9-e440-4adb-9c82-e8b9e154f436"
   },
   "outputs": [
    {
     "data": {
      "text/plain": [
       "array([[-1.],\n",
       "       [ 4.]])"
      ]
     },
     "execution_count": 46,
     "metadata": {},
     "output_type": "execute_result"
    }
   ],
   "source": [
    "#v1 = np.array([[1],[1]])\n",
    "#v2 = np.array([[2],[1]])\n",
    "#T = np.linalg.inv(v1).transpose()@np.array(v2)\n",
    "\n",
    "T = np.array([[1,1],[0,1]])\n",
    "\n",
    "solution = np.linalg.inv(T)@np.array([[3],[4]])\n",
    "solution"
   ]
  },
  {
   "cell_type": "code",
   "execution_count": null,
   "metadata": {
    "id": "96dd3fd1",
    "outputId": "56cd31f9-b4d7-452c-93dd-49f37adb4400"
   },
   "outputs": [
    {
     "name": "stdout",
     "output_type": "stream",
     "text": [
      "x:\n",
      "[[-1.]\n",
      " [ 4.]]\n"
     ]
    }
   ],
   "source": []
  },
  {
   "cell_type": "markdown",
   "metadata": {
    "id": "81b7edf9"
   },
   "source": [
    "## Determinant\n",
    "### Find Determinant of:"
   ]
  },
  {
   "cell_type": "markdown",
   "metadata": {
    "id": "f999e755"
   },
   "source": [
    "$$\\begin{bmatrix} 3&8 \\\\ 4&6 \\end{bmatrix} , \\begin{bmatrix} 4&6 \\\\ 3&8 \\end{bmatrix}$$\n",
    "$$\\begin{bmatrix} 6&1&1 \\\\ 4&-2&5 \\\\ 2&8&7\\end{bmatrix}$$\n",
    "$$\\begin{bmatrix} 3&2&0&1 \\\\ 4&0&1&2 \\\\ 3&0&2&1 \\\\ 9&2&3&1\\end{bmatrix}$$\n"
   ]
  },
  {
   "cell_type": "code",
   "execution_count": null,
   "metadata": {
    "colab": {
     "base_uri": "https://localhost:8080/"
    },
    "id": "y1MREK98Tt0M",
    "outputId": "64c0c787-b0d6-4ba8-89cc-c451e2d2fdc6"
   },
   "outputs": [
    {
     "name": "stdout",
     "output_type": "stream",
     "text": [
      "-14.000000000000004\n",
      "14.000000000000004\n",
      "-306.0\n",
      "24.000000000000004\n"
     ]
    }
   ],
   "source": [
    "m1 = np.array([[3,8],[4,6]])\n",
    "m2 = np.array([[4,6],[3,8]])\n",
    "m3 = np.array([[6,1,1],[4,-2,5],[2,8,7]])\n",
    "m4 = np.array([[3,2,0,1],[4,0,1,2],[3,0,2,1],[9,2,3,1]])\n",
    "\n",
    "print(np.linalg.det(m1))\n",
    "print(np.linalg.det(m2))\n",
    "print(np.linalg.det(m3))\n",
    "print(np.linalg.det(m4))"
   ]
  },
  {
   "cell_type": "code",
   "execution_count": null,
   "metadata": {
    "id": "95fc52ce",
    "outputId": "33e5159f-a671-460a-c4d6-0cd7e8146790"
   },
   "outputs": [
    {
     "name": "stdout",
     "output_type": "stream",
     "text": [
      "1.  -14.000000000000004\n",
      "2.  14.000000000000004\n",
      "3.  -306.0\n",
      "4.  24.000000000000004\n"
     ]
    }
   ],
   "source": []
  },
  {
   "cell_type": "markdown",
   "metadata": {
    "id": "3d7f760c"
   },
   "source": [
    "## Matrix Rank\n",
    "### Find the rank of the matrix (use rref and confirm using matrix_rank())"
   ]
  },
  {
   "cell_type": "markdown",
   "metadata": {
    "id": "39022ae4"
   },
   "source": [
    "$$X = \\begin{bmatrix} 1&2&4&4 \\\\ 3&4&8&0 \\end{bmatrix}$$\n",
    "$$Y = \\begin{bmatrix} 1&2&3 \\\\ 2&3&5 \\\\ 3&4&7 \\\\ 4&5&9  \\end{bmatrix}$$"
   ]
  },
  {
   "cell_type": "code",
   "execution_count": null,
   "metadata": {
    "colab": {
     "base_uri": "https://localhost:8080/"
    },
    "id": "A_3WLkkVUMLo",
    "outputId": "fe5b21e3-add0-47df-a4a2-2a5c0a7efec4"
   },
   "outputs": [
    {
     "name": "stdout",
     "output_type": "stream",
     "text": [
      "(Matrix([\n",
      "[1, 0, 0, -8],\n",
      "[0, 1, 2,  6]]), (0, 1))\n",
      "X rank:  2\n"
     ]
    }
   ],
   "source": [
    "X = np.array([[1,2,4,4],[3,4,8,0]])\n",
    "M = sm.Matrix(X)\n",
    "print(M.rref())\n",
    "print(\"X rank: \",np.linalg.matrix_rank(X))"
   ]
  },
  {
   "cell_type": "code",
   "execution_count": null,
   "metadata": {
    "id": "6855c257",
    "outputId": "8a8eba55-32be-49f4-a757-ef82b99cb421"
   },
   "outputs": [
    {
     "name": "stdout",
     "output_type": "stream",
     "text": [
      "(Matrix([\n",
      "[1, 0, 0, -8],\n",
      "[0, 1, 2,  6]]), (0, 1))\n",
      "\n",
      "X rank: 2\n"
     ]
    }
   ],
   "source": []
  },
  {
   "cell_type": "code",
   "execution_count": null,
   "metadata": {
    "colab": {
     "base_uri": "https://localhost:8080/"
    },
    "id": "ARKOshZEVQTE",
    "outputId": "a3d77fde-7974-48e1-9517-f805df1e14ae"
   },
   "outputs": [
    {
     "name": "stdout",
     "output_type": "stream",
     "text": [
      "(Matrix([\n",
      "[1, 0, 1],\n",
      "[0, 1, 1],\n",
      "[0, 0, 0],\n",
      "[0, 0, 0]]), (0, 1))\n",
      "X rank:  2\n"
     ]
    }
   ],
   "source": [
    "X = np.array([[1,2,3],[2,3,5],[3,4,7],[4,5,9]])\n",
    "M = sm.Matrix(X)\n",
    "print(M.rref())\n",
    "print(\"X rank: \",np.linalg.matrix_rank(X))"
   ]
  },
  {
   "cell_type": "code",
   "execution_count": null,
   "metadata": {
    "id": "864a8f85",
    "outputId": "271b8dab-806e-44f9-950a-5e2890757a85"
   },
   "outputs": [
    {
     "name": "stdout",
     "output_type": "stream",
     "text": [
      "(Matrix([\n",
      "[1, 0, 1],\n",
      "[0, 1, 1],\n",
      "[0, 0, 0],\n",
      "[0, 0, 0]]), (0, 1))\n",
      "\n",
      "Y rank: 2\n"
     ]
    }
   ],
   "source": []
  },
  {
   "cell_type": "markdown",
   "metadata": {
    "id": "9b55ebcf"
   },
   "source": [
    "## Matrix Inverse\n",
    "### Find the inverse:"
   ]
  },
  {
   "cell_type": "markdown",
   "metadata": {
    "id": "6f15a14c"
   },
   "source": [
    "$$\\begin{bmatrix} 3&8 \\\\ 4&6 \\end{bmatrix} , \\begin{bmatrix} 4&6 \\\\ 3&8 \\end{bmatrix}$$\n",
    "$$\\begin{bmatrix} 6&1&1 \\\\ 4&-2&5 \\\\ 2&8&7\\end{bmatrix}$$\n",
    "$$\\begin{bmatrix} 3&2&0&1 \\\\ 4&0&1&2 \\\\ 3&0&2&1 \\\\ 9&2&3&1\\end{bmatrix}$$"
   ]
  },
  {
   "cell_type": "code",
   "execution_count": null,
   "metadata": {
    "colab": {
     "base_uri": "https://localhost:8080/"
    },
    "id": "ao4wPCF_Xc9L",
    "outputId": "2be835ec-f270-4ee8-dd58-80992afa8d1f"
   },
   "outputs": [
    {
     "name": "stdout",
     "output_type": "stream",
     "text": [
      "[[-0.42857143  0.57142857]\n",
      " [ 0.28571429 -0.21428571]]\n",
      "[[ 0.57142857 -0.42857143]\n",
      " [-0.21428571  0.28571429]]\n",
      "[[ 0.17647059 -0.00326797 -0.02287582]\n",
      " [ 0.05882353 -0.13071895  0.08496732]\n",
      " [-0.11764706  0.1503268   0.05228758]]\n",
      "[[-0.25        0.25       -0.5         0.25      ]\n",
      " [ 0.66666667 -0.5         0.5        -0.16666667]\n",
      " [ 0.16666667 -0.5         1.         -0.16666667]\n",
      " [ 0.41666667  0.25        0.5        -0.41666667]]\n"
     ]
    }
   ],
   "source": [
    "m1 = np.array([[3,8],[4,6]])\n",
    "m2 = np.array([[4,6],[3,8]])\n",
    "m3 = np.array([[6,1,1],[4,-2,5],[2,8,7]])\n",
    "m4 = np.array([[3,2,0,1],[4,0,1,2],[3,0,2,1],[9,2,3,1]])\n",
    "\n",
    "print(np.linalg.inv(m1))\n",
    "print(np.linalg.inv(m2))\n",
    "print(np.linalg.inv(m3))\n",
    "print(np.linalg.inv(m4))"
   ]
  },
  {
   "cell_type": "code",
   "execution_count": null,
   "metadata": {
    "id": "ff81fb7b",
    "outputId": "d416133a-fe98-4343-b2d8-4b3d9df9d62c"
   },
   "outputs": [
    {
     "name": "stdout",
     "output_type": "stream",
     "text": [
      "1.\n",
      " [[-0.42857143  0.57142857]\n",
      " [ 0.28571429 -0.21428571]]\n",
      "\n",
      "2.\n",
      " [[ 0.57142857 -0.42857143]\n",
      " [-0.21428571  0.28571429]]\n",
      "\n",
      "3.\n",
      " [[ 0.17647059 -0.00326797 -0.02287582]\n",
      " [ 0.05882353 -0.13071895  0.08496732]\n",
      " [-0.11764706  0.1503268   0.05228758]]\n",
      "\n",
      "4.\n",
      " [[-0.25        0.25       -0.5         0.25      ]\n",
      " [ 0.66666667 -0.5         0.5        -0.16666667]\n",
      " [ 0.16666667 -0.5         1.         -0.16666667]\n",
      " [ 0.41666667  0.25        0.5        -0.41666667]]\n"
     ]
    }
   ],
   "source": []
  },
  {
   "cell_type": "markdown",
   "metadata": {
    "id": "6dfa4568"
   },
   "source": [
    "**bold text**## Changing Basis (Orthogonal Coordinates)\n",
    "### Perform the following (Once by dot product and another by matix). \n",
    "### First confirm b1 and b2 are orthogonal basis.\n"
   ]
  },
  {
   "cell_type": "code",
   "execution_count": 5,
   "metadata": {
    "colab": {
     "base_uri": "https://localhost:8080/"
    },
    "id": "JIxDeZ4TYn9o",
    "outputId": "9fd937ab-6a8b-415f-b523-db78cb145a8f"
   },
   "outputs": [
    {
     "name": "stdout",
     "output_type": "stream",
     "text": [
      "[[2.]] [[3.]]\n"
     ]
    }
   ],
   "source": [
    "v = np.array([[5],[-1]])\n",
    "b1 = np.array([[1],[1]])\n",
    "b2 = np.array([[1],[-1]])\n",
    "\n",
    "a = v.transpose()@b1/np.linalg.norm(b1,2)**2\n",
    "b = v.transpose()@b2/np.linalg.norm(b2,2)**2\n",
    "print(a,b)"
   ]
  },
  {
   "cell_type": "code",
   "execution_count": 10,
   "metadata": {
    "colab": {
     "base_uri": "https://localhost:8080/"
    },
    "id": "j2-nbMlUty35",
    "outputId": "dbc9a401-9b5c-4d22-b81b-11dfc294c70d"
   },
   "outputs": [
    {
     "data": {
      "text/plain": [
       "array([[2.],\n",
       "       [3.]])"
      ]
     },
     "execution_count": 10,
     "metadata": {},
     "output_type": "execute_result"
    }
   ],
   "source": [
    "import numpy as np\n",
    "import sympy as sm \n",
    "b = np.concatenate((b1,b2),axis = 1)\n",
    "np.linalg.inv(b) @ v"
   ]
  },
  {
   "cell_type": "code",
   "execution_count": null,
   "metadata": {
    "id": "1ac7a564",
    "outputId": "c09f20f9-1ecd-4cf0-c2c2-64674711e649"
   },
   "outputs": [
    {
     "name": "stdout",
     "output_type": "stream",
     "text": [
      "Using dot product\n",
      "vb:\n",
      "[[2.]\n",
      " [3.]]\n"
     ]
    }
   ],
   "source": []
  },
  {
   "cell_type": "code",
   "execution_count": null,
   "metadata": {
    "id": "f1738498",
    "outputId": "1bc5870a-38f8-4975-f9e4-a0dff33912e3",
    "scrolled": false
   },
   "outputs": [
    {
     "name": "stdout",
     "output_type": "stream",
     "text": [
      "Using transformation matrix\n",
      "vb:\n",
      "[[2.]\n",
      " [3.]]\n"
     ]
    }
   ],
   "source": []
  },
  {
   "cell_type": "code",
   "execution_count": 12,
   "metadata": {
    "colab": {
     "base_uri": "https://localhost:8080/"
    },
    "id": "0A64bqHfaOt7",
    "outputId": "ead69b20-d497-47f8-efb0-b003201b5708"
   },
   "outputs": [
    {
     "name": "stdout",
     "output_type": "stream",
     "text": [
      "[[0.4]] [[2.2]]\n"
     ]
    }
   ],
   "source": [
    "v = np.array([[10],[-5]])\n",
    "b1 = np.array([[3],[4]])\n",
    "b2 = np.array([[4],[-3]])\n",
    "\n",
    "a = v.transpose()@b1/np.linalg.norm(b1,2)**2\n",
    "b = v.transpose()@b2/np.linalg.norm(b2,2)**2\n",
    "print(a,b)"
   ]
  },
  {
   "cell_type": "code",
   "execution_count": 13,
   "metadata": {
    "colab": {
     "base_uri": "https://localhost:8080/"
    },
    "id": "rLlOcKrVEnbj",
    "outputId": "b8e63431-9bcb-48dd-8651-1d07a73b1ae1"
   },
   "outputs": [
    {
     "data": {
      "text/plain": [
       "array([[0.4],\n",
       "       [2.2]])"
      ]
     },
     "execution_count": 13,
     "metadata": {},
     "output_type": "execute_result"
    }
   ],
   "source": [
    "b = np.concatenate((b1,b2),axis = 1)\n",
    "np.linalg.inv(b) @ v"
   ]
  },
  {
   "cell_type": "markdown",
   "metadata": {
    "id": "87b1b94e"
   },
   "source": [
    "## Changing Basis (Non-Orthogonal Coordinates)\n",
    "### Perform the following. \n",
    "### First confirm b1 and b2 are non-orthogonal basis.\n"
   ]
  },
  {
   "cell_type": "code",
   "execution_count": 15,
   "metadata": {
    "colab": {
     "base_uri": "https://localhost:8080/"
    },
    "id": "fb0mqYf1GIef",
    "outputId": "5a73c6ea-cfd5-49c9-ef2d-a9237381f9e3"
   },
   "outputs": [
    {
     "data": {
      "text/plain": [
       "array([[1.5],\n",
       "       [0.5]])"
      ]
     },
     "execution_count": 15,
     "metadata": {},
     "output_type": "execute_result"
    }
   ],
   "source": [
    "v = np.array([[5], [2]])\n",
    "\n",
    "b1 = np.array([[3], [1]])\n",
    "\n",
    "b2 = np.array([[1], [1]])\n",
    "\n",
    "B = np.concatenate((b1,b2), axis=1)\n",
    "np.linalg.inv(B) @ v"
   ]
  },
  {
   "cell_type": "code",
   "execution_count": null,
   "metadata": {
    "id": "dc21f392",
    "outputId": "8501d3f3-c769-49aa-8c69-267e33615390"
   },
   "outputs": [
    {
     "name": "stdout",
     "output_type": "stream",
     "text": [
      "vb:\n",
      "[[1.5]\n",
      " [0.5]]\n"
     ]
    }
   ],
   "source": []
  },
  {
   "cell_type": "markdown",
   "metadata": {
    "id": "24e6f17d"
   },
   "source": [
    "## Transformation in Non-Orthonormal Space\n"
   ]
  },
  {
   "cell_type": "code",
   "execution_count": 18,
   "metadata": {
    "id": "CfRwzosJIBmj"
   },
   "outputs": [],
   "source": [
    "b1 = np.array([[3], [1]])\n",
    "b2 = np.array([[1], [1]])\n",
    "\n",
    "B = np.concatenate((b1,b2),axis=1)\n",
    "\n",
    "ref_T_e = np.array([[1, 0],\n",
    "                  [0, -1]])\n",
    "\n",
    "rot_T_e = np.array([[0, 1],\n",
    "                  [-1, 0]])\n",
    "\n",
    "v = np.array([[1.5], [0.5]])"
   ]
  },
  {
   "cell_type": "code",
   "execution_count": 26,
   "metadata": {
    "colab": {
     "base_uri": "https://localhost:8080/"
    },
    "id": "kNfoQr0KIDjK",
    "outputId": "63d55874-87f9-4563-da10-263e4ff0e1f7"
   },
   "outputs": [
    {
     "data": {
      "text/plain": [
       "array([[ 2.,  1.],\n",
       "       [-3., -2.]])"
      ]
     },
     "execution_count": 26,
     "metadata": {},
     "output_type": "execute_result"
    }
   ],
   "source": [
    "TB1 = np.around(np.linalg.inv(B)@ ref_T_e @ B )\n",
    "TB1"
   ]
  },
  {
   "cell_type": "code",
   "execution_count": 22,
   "metadata": {
    "colab": {
     "base_uri": "https://localhost:8080/"
    },
    "id": "nXpqNmH_Ja4i",
    "outputId": "a1860e34-a0ec-454c-b3bf-2a894ed5a23b"
   },
   "outputs": [
    {
     "data": {
      "text/plain": [
       "array([[ 2.,  1.],\n",
       "       [-5., -2.]])"
      ]
     },
     "execution_count": 22,
     "metadata": {},
     "output_type": "execute_result"
    }
   ],
   "source": [
    "TB2 = np.around(np.linalg.inv(B) @ rot_T_e @ B)\n",
    "TB2"
   ]
  },
  {
   "cell_type": "code",
   "execution_count": 23,
   "metadata": {
    "colab": {
     "base_uri": "https://localhost:8080/"
    },
    "id": "TYNZzKAjJhVh",
    "outputId": "136115db-7a39-4b6d-e87b-eb9fae11f345"
   },
   "outputs": [
    {
     "data": {
      "text/plain": [
       "array([ 3.5, -5.5])"
      ]
     },
     "execution_count": 23,
     "metadata": {},
     "output_type": "execute_result"
    }
   ],
   "source": [
    "TB1@v"
   ]
  },
  {
   "cell_type": "code",
   "execution_count": 24,
   "metadata": {
    "colab": {
     "base_uri": "https://localhost:8080/"
    },
    "id": "Q-Cm8_JkJqI4",
    "outputId": "816c72cb-b343-4347-fa57-50e8e436a895"
   },
   "outputs": [
    {
     "data": {
      "text/plain": [
       "array([ 3.5, -8.5])"
      ]
     },
     "execution_count": 24,
     "metadata": {},
     "output_type": "execute_result"
    }
   ],
   "source": [
    "TB2@v"
   ]
  },
  {
   "cell_type": "code",
   "execution_count": null,
   "metadata": {
    "id": "6a96c43f",
    "outputId": "4618986d-606c-4424-b478-d3a5af3fe3a3",
    "scrolled": true
   },
   "outputs": [
    {
     "name": "stdout",
     "output_type": "stream",
     "text": [
      "TB1 =\n",
      " [[ 2.  1.]\n",
      " [-3. -2.]]\n",
      "\n",
      "TB2 =\n",
      " [[ 2.  1.]\n",
      " [-5. -2.]]\n",
      "\n",
      "vb_TB1 =\n",
      " [[ 3.5]\n",
      " [-5.5]]\n",
      "\n",
      "vb_TB2 =\n",
      " [[ 3.5]\n",
      " [-8.5]]\n"
     ]
    }
   ],
   "source": []
  },
  {
   "cell_type": "markdown",
   "metadata": {
    "id": "2b687c17"
   },
   "source": [
    "## Gram–Schmidt Process (Orthogonalization)\n",
    "\n",
    "#### Confirm your answer using numpy.linalg.qr() function\n",
    "#### Make sure all vectors given above are basis in R3 space.\n",
    "#### Confirm that the orthogonal matrix has orthonormal vectors.\n",
    "#### Confirm that the transpose of the orthogonal matrix is it's inverse.\n",
    "#### Reflect the vector r = (1,3,4) arround the xy plane.\n",
    "#### Round all results to 3 decimal points."
   ]
  },
  {
   "cell_type": "code",
   "execution_count": 27,
   "metadata": {
    "colab": {
     "base_uri": "https://localhost:8080/"
    },
    "id": "rRf-cZ5ZLDuX",
    "outputId": "820a4ea7-1717-4320-cb7b-a051ee2de5df"
   },
   "outputs": [
    {
     "data": {
      "text/plain": [
       "array([[ 1,  8,  0],\n",
       "       [ 2,  1,  0],\n",
       "       [ 0, -6,  1]])"
      ]
     },
     "execution_count": 27,
     "metadata": {},
     "output_type": "execute_result"
    }
   ],
   "source": [
    "v1 = np.array([[1], [2], [0]])\n",
    "\n",
    "v2 = np.array([[8], [1], [-6]])\n",
    "\n",
    "v3 = np.array([[0], [0], [1]])\n",
    "\n",
    "v = np.concatenate((v1,v2,v3),axis=1)\n"
   ]
  },
  {
   "cell_type": "code",
   "execution_count": 29,
   "metadata": {
    "colab": {
     "base_uri": "https://localhost:8080/"
    },
    "id": "AIMJ6scuLKdV",
    "outputId": "0db87079-5d2d-4241-d61a-b4dfe813a17f"
   },
   "outputs": [
    {
     "name": "stdout",
     "output_type": "stream",
     "text": [
      "-15.0\n",
      "(Matrix([\n",
      "[1, 0, 0],\n",
      "[0, 1, 0],\n",
      "[0, 0, 1]]), (0, 1, 2))\n"
     ]
    }
   ],
   "source": [
    "#### Make sure all vectors given above are basis in R3 space.\n",
    "print(np.linalg.det(v))\n",
    "print(sm.Matrix(v).rref())"
   ]
  },
  {
   "cell_type": "code",
   "execution_count": null,
   "metadata": {
    "id": "07ba3659",
    "outputId": "62864a26-fbe2-4d3a-f334-8fa43da0cb37"
   },
   "outputs": [
    {
     "name": "stdout",
     "output_type": "stream",
     "text": [
      "det(V): -15.0\n",
      "Mrref:\n",
      " (Matrix([\n",
      "[1, 0, 0],\n",
      "[0, 1, 0],\n",
      "[0, 0, 1]]), (0, 1, 2))\n"
     ]
    }
   ],
   "source": []
  },
  {
   "cell_type": "code",
   "execution_count": 34,
   "metadata": {
    "colab": {
     "base_uri": "https://localhost:8080/"
    },
    "id": "Pcmi-7b6MlCX",
    "outputId": "511cfe42-325e-49f3-b13c-049e3016d691"
   },
   "outputs": [
    {
     "name": "stdout",
     "output_type": "stream",
     "text": [
      "[[1]\n",
      " [2]\n",
      " [0]]\n",
      "[[0.4472136 ]\n",
      " [0.89442719]\n",
      " [0.        ]]\n"
     ]
    }
   ],
   "source": [
    "### Orthogonalization\n",
    "\n",
    "u1 = v1\n",
    "print(u1)\n",
    "e1 = u1/np.linalg.norm(u1)\n",
    "print(e1)"
   ]
  },
  {
   "cell_type": "code",
   "execution_count": 33,
   "metadata": {
    "colab": {
     "base_uri": "https://localhost:8080/"
    },
    "id": "SJguU-fbNDHi",
    "outputId": "63cb76ce-7977-4913-bc87-cc20db45f3d9"
   },
   "outputs": [
    {
     "name": "stdout",
     "output_type": "stream",
     "text": [
      "[[ 6.]\n",
      " [-3.]\n",
      " [-6.]]\n",
      "[[ 0.66666667]\n",
      " [-0.33333333]\n",
      " [-0.66666667]]\n"
     ]
    }
   ],
   "source": [
    "u2 = v2 - (v2.T@u1)/(u1.T@u1) * u1\n",
    "print(u2)\n",
    "e2 = u2/np.linalg.norm(u2)\n",
    "print(e2)"
   ]
  },
  {
   "cell_type": "code",
   "execution_count": 35,
   "metadata": {
    "colab": {
     "base_uri": "https://localhost:8080/"
    },
    "id": "nXG8tppnNRX0",
    "outputId": "1d1fe37d-24a7-4ac9-8c3c-12d43698a7cd"
   },
   "outputs": [
    {
     "name": "stdout",
     "output_type": "stream",
     "text": [
      "[[ 0.44444444]\n",
      " [-0.22222222]\n",
      " [ 0.55555556]]\n",
      "[[ 0.59628479]\n",
      " [-0.2981424 ]\n",
      " [ 0.74535599]]\n"
     ]
    }
   ],
   "source": [
    "u3 = v3 - (v3.T@u1)/(u1.T@u1) * u1 - (v3.T@u2)/(u2.T@u2) * u2\n",
    "print(u3)\n",
    "e3 = u3/np.linalg.norm(u3)\n",
    "print(e3)"
   ]
  },
  {
   "cell_type": "code",
   "execution_count": null,
   "metadata": {
    "id": "95031239",
    "outputId": "c986a239-b8d1-4370-80e4-3c6c0699f71b"
   },
   "outputs": [
    {
     "name": "stdout",
     "output_type": "stream",
     "text": [
      "u1:\n",
      "[[1]\n",
      " [2]\n",
      " [0]]\n",
      "\n",
      "u2:\n",
      "[[ 6.]\n",
      " [-3.]\n",
      " [-6.]]\n",
      "\n",
      "u3:\n",
      "[[ 0.44444444]\n",
      " [-0.22222222]\n",
      " [ 0.55555556]]\n",
      "\n",
      "e1:\n",
      "[[0.4472136 ]\n",
      " [0.89442719]\n",
      " [0.        ]]\n",
      "\n",
      "e2:\n",
      "[[ 0.66666667]\n",
      " [-0.33333333]\n",
      " [-0.66666667]]\n",
      "\n",
      "e3:\n",
      "[[ 0.59628479]\n",
      " [-0.2981424 ]\n",
      " [ 0.74535599]]\n"
     ]
    }
   ],
   "source": []
  },
  {
   "cell_type": "code",
   "execution_count": 37,
   "metadata": {
    "colab": {
     "base_uri": "https://localhost:8080/"
    },
    "id": "_5_uO3omOBTP",
    "outputId": "8b545af8-a810-466d-c123-df658e99d3e7"
   },
   "outputs": [
    {
     "name": "stdout",
     "output_type": "stream",
     "text": [
      "[[ 0.4472136   0.66666667  0.59628479]\n",
      " [ 0.89442719 -0.33333333 -0.2981424 ]\n",
      " [ 0.         -0.66666667  0.74535599]]\n",
      "[[ 0.4472136   0.89442719  0.        ]\n",
      " [ 0.66666667 -0.33333333 -0.66666667]\n",
      " [ 0.59628479 -0.2981424   0.74535599]]\n",
      "[[ 0.4472136   0.89442719  0.        ]\n",
      " [ 0.66666667 -0.33333333 -0.66666667]\n",
      " [ 0.59628479 -0.2981424   0.74535599]]\n"
     ]
    }
   ],
   "source": [
    "B = np.concatenate((e1, e2, e3), axis=1)\n",
    "print(B)\n",
    "print(B.T)\n",
    "print(np.linalg.inv(B))"
   ]
  },
  {
   "cell_type": "code",
   "execution_count": 39,
   "metadata": {
    "colab": {
     "base_uri": "https://localhost:8080/"
    },
    "id": "rsHztzoIO8G6",
    "outputId": "f9199c77-d1fe-44bc-f707-9f0614abd966"
   },
   "outputs": [
    {
     "data": {
      "text/plain": [
       "array([[-0.4472136 ,  0.66666667,  0.59628479],\n",
       "       [-0.89442719, -0.33333333, -0.2981424 ],\n",
       "       [-0.        , -0.66666667,  0.74535599]])"
      ]
     },
     "execution_count": 39,
     "metadata": {},
     "output_type": "execute_result"
    }
   ],
   "source": [
    "Q, R = np.linalg.qr(v)\n",
    "Q"
   ]
  },
  {
   "cell_type": "code",
   "execution_count": null,
   "metadata": {
    "id": "857b9624",
    "outputId": "6cb619c3-b075-42e4-dddd-98fb457a7eec",
    "scrolled": true
   },
   "outputs": [
    {
     "name": "stdout",
     "output_type": "stream",
     "text": [
      "Using QR:\n",
      "[[-0.4472136   0.66666667  0.59628479]\n",
      " [-0.89442719 -0.33333333 -0.2981424 ]\n",
      " [-0.         -0.66666667  0.74535599]]\n"
     ]
    }
   ],
   "source": []
  },
  {
   "cell_type": "code",
   "execution_count": 40,
   "metadata": {
    "colab": {
     "base_uri": "https://localhost:8080/"
    },
    "id": "405735fa",
    "outputId": "73ad7af1-69c3-43f2-bb73-5823f2d696d3"
   },
   "outputs": [
    {
     "name": "stdout",
     "output_type": "stream",
     "text": [
      "[[-0.4472136  -0.89442719 -0.        ]\n",
      " [ 0.66666667 -0.33333333 -0.66666667]\n",
      " [ 0.59628479 -0.2981424   0.74535599]]\n",
      "[[-4.47213595e-01 -8.94427191e-01 -9.30950307e-17]\n",
      " [ 6.66666667e-01 -3.33333333e-01 -6.66666667e-01]\n",
      " [ 5.96284794e-01 -2.98142397e-01  7.45355992e-01]]\n"
     ]
    }
   ],
   "source": [
    "print(Q.T)\n",
    "print(np.linalg.inv(Q))"
   ]
  },
  {
   "cell_type": "code",
   "execution_count": 41,
   "metadata": {
    "colab": {
     "base_uri": "https://localhost:8080/"
    },
    "id": "S960LBqfPZ6W",
    "outputId": "5b3025eb-6f7e-4184-f366-85dbf0287f9b"
   },
   "outputs": [
    {
     "data": {
      "text/plain": [
       "array([[ 0.28888889,  0.35555556, -0.88888889],\n",
       "       [ 0.35555556,  0.82222222,  0.44444444],\n",
       "       [-0.88888889,  0.44444444, -0.11111111]])"
      ]
     },
     "execution_count": 41,
     "metadata": {},
     "output_type": "execute_result"
    }
   ],
   "source": [
    "ref_T = np.array([[1, 0, 0],\n",
    "                  [0, 1, 0],\n",
    "                  [0, 0, -1]])\n",
    "\n",
    "r = np.array([[1], [3], [4]])\n",
    "\n",
    "ref_T_non = B @ ref_T @ np.linalg.inv(B)\n",
    "ref_T_non"
   ]
  },
  {
   "cell_type": "code",
   "execution_count": 44,
   "metadata": {
    "colab": {
     "base_uri": "https://localhost:8080/"
    },
    "id": "oJ6hd0vZPxAL",
    "outputId": "9e6652cf-131b-4c4b-95f2-1adf1e6cdc9f"
   },
   "outputs": [
    {
     "data": {
      "text/plain": [
       "array([[-2.2],\n",
       "       [ 4.6],\n",
       "       [ 0. ]])"
      ]
     },
     "execution_count": 44,
     "metadata": {},
     "output_type": "execute_result"
    }
   ],
   "source": [
    "np.around(ref_T_non @ r, 3)"
   ]
  },
  {
   "cell_type": "code",
   "execution_count": null,
   "metadata": {
    "id": "53e683d9",
    "outputId": "83ef65a4-e787-4a69-95be-6dd0b6635567"
   },
   "outputs": [
    {
     "name": "stdout",
     "output_type": "stream",
     "text": [
      "Transformation matrix in the non-orthonormal basis:\n",
      "[[ 0.28888889  0.35555556 -0.88888889]\n",
      " [ 0.35555556  0.82222222  0.44444444]\n",
      " [-0.88888889  0.44444444 -0.11111111]]\n",
      "\n",
      "Transformed vector:\n",
      "[[-2.2]\n",
      " [ 4.6]\n",
      " [ 0. ]]\n"
     ]
    }
   ],
   "source": []
  },
  {
   "cell_type": "code",
   "execution_count": null,
   "metadata": {
    "id": "b788c2df"
   },
   "outputs": [],
   "source": []
  }
 ],
 "metadata": {
  "colab": {
   "provenance": []
  },
  "kernelspec": {
   "display_name": "Python 3",
   "language": "python",
   "name": "python3"
  },
  "language_info": {
   "codemirror_mode": {
    "name": "ipython",
    "version": 3
   },
   "file_extension": ".py",
   "mimetype": "text/x-python",
   "name": "python",
   "nbconvert_exporter": "python",
   "pygments_lexer": "ipython3",
   "version": "3.8.5"
  }
 },
 "nbformat": 4,
 "nbformat_minor": 5
}
