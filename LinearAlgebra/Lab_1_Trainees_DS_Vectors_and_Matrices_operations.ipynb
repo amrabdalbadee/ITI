{
  "cells": [
    {
      "cell_type": "code",
      "execution_count": 1,
      "id": "9c0d929f",
      "metadata": {
        "id": "9c0d929f"
      },
      "outputs": [],
      "source": [
        "import numpy as np"
      ]
    },
    {
      "cell_type": "markdown",
      "id": "c56a1fa4",
      "metadata": {
        "id": "c56a1fa4"
      },
      "source": [
        "### Practice some NumPy commands:\n",
        "- Create 3 * 3 array.\n",
        "- Check its shape.\n",
        "- Select first row.\n",
        "- Select 2nd column.\n",
        "- Select the 2nd element in the third column.\n",
        "- Create 2*2 from the first two elements of the first 2 rows and columns.\n",
        "- Create single row vector.\n",
        "- Create single column vector."
      ]
    },
    {
      "cell_type": "code",
      "execution_count": 6,
      "id": "c3779cf5",
      "metadata": {
        "id": "c3779cf5",
        "colab": {
          "base_uri": "https://localhost:8080/"
        },
        "outputId": "4e2b4715-09c5-4734-ae7f-ca46acdb10f8"
      },
      "outputs": [
        {
          "output_type": "execute_result",
          "data": {
            "text/plain": [
              "(3, 3)"
            ]
          },
          "metadata": {},
          "execution_count": 6
        }
      ],
      "source": [
        "X = np.arange(1,10).reshape(3,3)\n",
        "X\n",
        "X.shape"
      ]
    },
    {
      "cell_type": "code",
      "source": [
        "X[0,:]"
      ],
      "metadata": {
        "colab": {
          "base_uri": "https://localhost:8080/"
        },
        "id": "KrLigJBgYdXR",
        "outputId": "33badc50-0d95-4595-fae8-a6500dd371ab"
      },
      "id": "KrLigJBgYdXR",
      "execution_count": 12,
      "outputs": [
        {
          "output_type": "execute_result",
          "data": {
            "text/plain": [
              "array([1, 2, 3])"
            ]
          },
          "metadata": {},
          "execution_count": 12
        }
      ]
    },
    {
      "cell_type": "code",
      "source": [
        "X[:,1]"
      ],
      "metadata": {
        "colab": {
          "base_uri": "https://localhost:8080/"
        },
        "id": "izl2ej0qYpfT",
        "outputId": "a7ddf959-a702-4a00-efe4-65ac0e803a23"
      },
      "id": "izl2ej0qYpfT",
      "execution_count": 13,
      "outputs": [
        {
          "output_type": "execute_result",
          "data": {
            "text/plain": [
              "array([2, 5, 8])"
            ]
          },
          "metadata": {},
          "execution_count": 13
        }
      ]
    },
    {
      "cell_type": "code",
      "source": [
        "X[1][2]"
      ],
      "metadata": {
        "colab": {
          "base_uri": "https://localhost:8080/"
        },
        "id": "vxHs3mdXY22Q",
        "outputId": "1662143d-49f0-494c-e560-62b30b0f783e"
      },
      "id": "vxHs3mdXY22Q",
      "execution_count": 14,
      "outputs": [
        {
          "output_type": "execute_result",
          "data": {
            "text/plain": [
              "6"
            ]
          },
          "metadata": {},
          "execution_count": 14
        }
      ]
    },
    {
      "cell_type": "code",
      "source": [
        "X[:2,:2].reshape(2,2)"
      ],
      "metadata": {
        "colab": {
          "base_uri": "https://localhost:8080/"
        },
        "id": "AKpbfrZgY7PM",
        "outputId": "a86ea2bf-747c-481b-cf67-bf32d5186555"
      },
      "id": "AKpbfrZgY7PM",
      "execution_count": 17,
      "outputs": [
        {
          "output_type": "execute_result",
          "data": {
            "text/plain": [
              "array([[1, 2],\n",
              "       [4, 5]])"
            ]
          },
          "metadata": {},
          "execution_count": 17
        }
      ]
    },
    {
      "cell_type": "code",
      "source": [
        "Y = np.array([1,2,3]).reshape(1,3)\n",
        "Y"
      ],
      "metadata": {
        "colab": {
          "base_uri": "https://localhost:8080/"
        },
        "id": "P-v8f205ZPES",
        "outputId": "fdf07243-bd4c-46fe-c70a-967ef4ed0092"
      },
      "id": "P-v8f205ZPES",
      "execution_count": 20,
      "outputs": [
        {
          "output_type": "execute_result",
          "data": {
            "text/plain": [
              "array([[1, 2, 3]])"
            ]
          },
          "metadata": {},
          "execution_count": 20
        }
      ]
    },
    {
      "cell_type": "code",
      "source": [
        "Z = np.array([4,5,6]).reshape(3,1)\n",
        "Z"
      ],
      "metadata": {
        "colab": {
          "base_uri": "https://localhost:8080/"
        },
        "id": "KGU_5jW_ZPGJ",
        "outputId": "bc3758de-5e3b-4098-b1fa-a5097f63cd06"
      },
      "id": "KGU_5jW_ZPGJ",
      "execution_count": 19,
      "outputs": [
        {
          "output_type": "execute_result",
          "data": {
            "text/plain": [
              "array([[4],\n",
              "       [5],\n",
              "       [6]])"
            ]
          },
          "metadata": {},
          "execution_count": 19
        }
      ]
    },
    {
      "cell_type": "markdown",
      "id": "935d4b46",
      "metadata": {
        "id": "935d4b46"
      },
      "source": [
        "## Represent in paper and as numpy arrays Ax=b\n",
        "![image.png](attachment:image.png)"
      ]
    },
    {
      "cell_type": "code",
      "execution_count": 22,
      "id": "fd76ca8b",
      "metadata": {
        "id": "fd76ca8b"
      },
      "outputs": [],
      "source": [
        "A = np.array([[3,-1]\n",
        "              ,[1,0]])\n",
        "A_aug = np.array([[3,-1,2]\n",
        "              ,[1,0,4]])\n",
        "A_result = np.array([[2],[4]])\n",
        "\n",
        "B = np.array([[3,-2]\n",
        "              ,[2,-2]])\n",
        "B_aug = np.array([[3,-2,7]\n",
        "              ,[2,-2,2]])\n",
        "B_result = np.array([[7],[2]])\n",
        "\n",
        "\n",
        "C = np.array([[3,-2,1]\n",
        "              ,[1,1,1],\n",
        "              [3,-2,-1]])\n",
        "C_aug = np.array([[3,-2,1,7]\n",
        "              ,[1,1,1,2],\n",
        "              [3,-2,-1,3]])\n",
        "C_result = np.array([[7],[2],[3]])\n"
      ]
    },
    {
      "cell_type": "markdown",
      "id": "35de5d9a",
      "metadata": {
        "id": "35de5d9a"
      },
      "source": [
        "### Using numpy arrays\n",
        "- Multiply matrix <b>A</b> and vector <b>x</b> and make sure the result is <b>b</b> from the above exercise."
      ]
    },
    {
      "cell_type": "code",
      "execution_count": 29,
      "id": "3cc9cd71",
      "metadata": {
        "id": "3cc9cd71",
        "outputId": "b51eaab8-1c2e-4e98-d26b-bf96a704b4dc",
        "colab": {
          "base_uri": "https://localhost:8080/"
        }
      },
      "outputs": [
        {
          "output_type": "stream",
          "name": "stdout",
          "text": [
            "[[ True]\n",
            " [ True]]\n",
            "[[ True]\n",
            " [ True]]\n",
            "[[ True]\n",
            " [ True]\n",
            " [ True]]\n"
          ]
        }
      ],
      "source": [
        "x1= np.array([[ 4.]\n",
        ",[10.]])\n",
        "x2= np.array([[5.]\n",
        " ,[4.]])\n",
        "x3= np.array([[ 1.]\n",
        " ,[-1.]\n",
        " ,[ 2.]])\n",
        "\n",
        "print(A@x1 == A_result)\n",
        "print(B@x2 == B_result)\n",
        "print(C@x3 == C_result)"
      ]
    },
    {
      "cell_type": "markdown",
      "id": "053d9605",
      "metadata": {
        "id": "053d9605"
      },
      "source": [
        "## Calculate in paper then confirm your results using numpy linalg.norm().\n",
        "![image.png](attachment:image.png)"
      ]
    },
    {
      "cell_type": "code",
      "execution_count": 36,
      "id": "5276012c",
      "metadata": {
        "id": "5276012c",
        "colab": {
          "base_uri": "https://localhost:8080/"
        },
        "outputId": "7587614e-1547-429b-ef80-a9b17e1ce34f"
      },
      "outputs": [
        {
          "output_type": "stream",
          "name": "stdout",
          "text": [
            "6.0\n",
            "3.7416573867739413\n",
            "3.0\n",
            "---------------------\n",
            "10.0\n",
            "5.291502622129181\n",
            "3.0\n",
            "---------------------\n",
            "4.626065009182741\n"
          ]
        }
      ],
      "source": [
        "from numpy import linalg\n",
        "from math import inf\n",
        "\n",
        "x = np.array([1,2,3])\n",
        "print(linalg.norm(x,1))\n",
        "print(linalg.norm(x,2))\n",
        "print(linalg.norm(x,inf))\n",
        "print(\"---------------------\")\n",
        "y = np.array([3,3,1,3])\n",
        "print(linalg.norm(y,1))\n",
        "print(linalg.norm(y,2))\n",
        "print(linalg.norm(y,inf))\n",
        "print(\"---------------------\")\n",
        "z = np.array([2,3,4])\n",
        "print(linalg.norm(z,3))"
      ]
    },
    {
      "cell_type": "markdown",
      "id": "4a09c2e3",
      "metadata": {
        "id": "4a09c2e3"
      },
      "source": [
        "## Calculate in paper then confirm your results using numpy.\n",
        "### Calculate L1, L2, L3, and Lmax for the following vectors:\n",
        "### [5,6], [4,3,2], [4,3,2,8,9]."
      ]
    },
    {
      "cell_type": "code",
      "execution_count": 35,
      "id": "7f44e5fa",
      "metadata": {
        "id": "7f44e5fa",
        "colab": {
          "base_uri": "https://localhost:8080/"
        },
        "outputId": "32c9d405-9643-4062-c79a-594386784b02"
      },
      "outputs": [
        {
          "output_type": "stream",
          "name": "stdout",
          "text": [
            "11.0\n",
            "7.810249675906654\n",
            "6.986368027818105\n",
            "6.0\n",
            "---------------------\n",
            "9.0\n",
            "5.385164807134504\n",
            "4.626065009182741\n",
            "4.0\n",
            "---------------------\n",
            "26.0\n",
            "13.19090595827292\n",
            "11.02473771449733\n",
            "9.0\n"
          ]
        }
      ],
      "source": [
        "x = np.array([5,6])\n",
        "print(linalg.norm(x,1))\n",
        "print(linalg.norm(x,2))\n",
        "print(linalg.norm(x,3))\n",
        "print(linalg.norm(x,inf))\n",
        "print(\"---------------------\")\n",
        "y = np.array([4,3,2])\n",
        "print(linalg.norm(y,1))\n",
        "print(linalg.norm(y,2))\n",
        "print(linalg.norm(y,3))\n",
        "print(linalg.norm(y,inf))\n",
        "print(\"---------------------\")\n",
        "z = np.array([4,3,2,8,9])\n",
        "print(linalg.norm(z,1))\n",
        "print(linalg.norm(z,2))\n",
        "print(linalg.norm(z,3))\n",
        "print(linalg.norm(z,inf))"
      ]
    },
    {
      "cell_type": "markdown",
      "id": "9560b90d",
      "metadata": {
        "id": "9560b90d"
      },
      "source": [
        "## Calculate in paper then confirm your results using numpy.\n",
        "![image.png](attachment:image.png)"
      ]
    },
    {
      "cell_type": "code",
      "source": [
        "x = np.array([2,-1,5,0])\n",
        "y = np.array([[4]\n",
        "              ,[-3],\n",
        "              [1],\n",
        "              [-1]])\n",
        "x@y"
      ],
      "metadata": {
        "colab": {
          "base_uri": "https://localhost:8080/"
        },
        "id": "I04MEePux3f-",
        "outputId": "8cb82d37-0430-4c32-9c5d-1b1ae3089d4d"
      },
      "id": "I04MEePux3f-",
      "execution_count": 52,
      "outputs": [
        {
          "output_type": "execute_result",
          "data": {
            "text/plain": [
              "array([16])"
            ]
          },
          "metadata": {},
          "execution_count": 52
        }
      ]
    },
    {
      "cell_type": "code",
      "source": [
        "x2 = np.array([3,2,-1,4])\n",
        "y2 = np.array([[1]\n",
        "              ,[-1],\n",
        "              [1],\n",
        "              [0]])\n",
        "x2@y2"
      ],
      "metadata": {
        "colab": {
          "base_uri": "https://localhost:8080/"
        },
        "id": "zSqAWTZvx3ox",
        "outputId": "7c2859d5-b4ba-4ec0-899d-7e526991d79c"
      },
      "id": "zSqAWTZvx3ox",
      "execution_count": 53,
      "outputs": [
        {
          "output_type": "execute_result",
          "data": {
            "text/plain": [
              "array([0])"
            ]
          },
          "metadata": {},
          "execution_count": 53
        }
      ]
    },
    {
      "cell_type": "markdown",
      "id": "f56c9a66",
      "metadata": {
        "id": "f56c9a66"
      },
      "source": [
        "## Calculate in paper then confirm your results using numpy.\n",
        "### Create two vectors in 2, 3, and 4 dimensions.\n",
        "### Perform vector addition, subtraction, and dot product of these vectors."
      ]
    },
    {
      "cell_type": "code",
      "execution_count": 44,
      "id": "41a3caa6",
      "metadata": {
        "id": "41a3caa6"
      },
      "outputs": [],
      "source": [
        "A_2D = np.arange(9).reshape(3,3)\n",
        "B_2D = np.arange(9,0,-1).reshape(3,3)\n",
        "\n",
        "A_3D = np.arange(18).reshape(2,3,3)\n",
        "B_3D = np.arange(18,0,-1).reshape(2,3,3)\n",
        "\n",
        "A_4D = np.arange(36).reshape(2,2,3,3)\n",
        "B_4D = np.arange(36,0,-1).reshape(2,2,3,3)"
      ]
    },
    {
      "cell_type": "code",
      "execution_count": 49,
      "id": "f02ca8ca",
      "metadata": {
        "id": "f02ca8ca",
        "colab": {
          "base_uri": "https://localhost:8080/"
        },
        "outputId": "77f0c89a-f58d-42f3-fda6-0b70a7fbec54"
      },
      "outputs": [
        {
          "output_type": "stream",
          "name": "stdout",
          "text": [
            "[[9 9 9]\n",
            " [9 9 9]\n",
            " [9 9 9]]\n",
            "---------------------\n",
            "[[-9 -7 -5]\n",
            " [-3 -1  1]\n",
            " [ 3  5  7]]\n",
            "---------------------\n",
            "[[ 12   9   6]\n",
            " [ 66  54  42]\n",
            " [120  99  78]]\n"
          ]
        }
      ],
      "source": [
        "C_2D = A_2D + B_2D\n",
        "print(C_2D)\n",
        "print(\"---------------------\")\n",
        "D_2D = A_2D - B_2D\n",
        "print(D_2D)\n",
        "print(\"---------------------\")\n",
        "E_2D = A_2D @ B_2D\n",
        "print(E_2D)"
      ]
    },
    {
      "cell_type": "code",
      "source": [
        "C_3D = A_3D + B_3D\n",
        "print(C_3D)\n",
        "print(\"---------------------\")\n",
        "D_3D = A_3D - B_3D\n",
        "print(D_3D)\n",
        "print(\"---------------------\")\n",
        "E_3D = A_3D @ B_3D\n",
        "print(E_3D)"
      ],
      "metadata": {
        "colab": {
          "base_uri": "https://localhost:8080/"
        },
        "id": "pgnDD_Ncw9XX",
        "outputId": "3d0c7132-7037-4ab8-f263-f8f71a54e009"
      },
      "id": "pgnDD_Ncw9XX",
      "execution_count": 50,
      "outputs": [
        {
          "output_type": "stream",
          "name": "stdout",
          "text": [
            "[[[18 18 18]\n",
            "  [18 18 18]\n",
            "  [18 18 18]]\n",
            "\n",
            " [[18 18 18]\n",
            "  [18 18 18]\n",
            "  [18 18 18]]]\n",
            "---------------------\n",
            "[[[-18 -16 -14]\n",
            "  [-12 -10  -8]\n",
            "  [ -6  -4  -2]]\n",
            "\n",
            " [[  0   2   4]\n",
            "  [  6   8  10]\n",
            "  [ 12  14  16]]]\n",
            "---------------------\n",
            "[[[ 39  36  33]\n",
            "  [174 162 150]\n",
            "  [309 288 267]]\n",
            "\n",
            " [[174 144 114]\n",
            "  [228 189 150]\n",
            "  [282 234 186]]]\n"
          ]
        }
      ]
    },
    {
      "cell_type": "code",
      "source": [
        "C_4D = A_4D + B_4D\n",
        "print(C_4D)\n",
        "print(\"---------------------\")\n",
        "D_4D = A_4D - B_4D\n",
        "print(D_4D)\n",
        "print(\"---------------------\")\n",
        "E_4D = A_4D @ B_4D\n",
        "print(E_4D)"
      ],
      "metadata": {
        "colab": {
          "base_uri": "https://localhost:8080/"
        },
        "id": "XiciUaO4xJaB",
        "outputId": "cd75ef52-2be2-4c4b-d5e3-ff6f2811ab1b"
      },
      "id": "XiciUaO4xJaB",
      "execution_count": 51,
      "outputs": [
        {
          "output_type": "stream",
          "name": "stdout",
          "text": [
            "[[[[36 36 36]\n",
            "   [36 36 36]\n",
            "   [36 36 36]]\n",
            "\n",
            "  [[36 36 36]\n",
            "   [36 36 36]\n",
            "   [36 36 36]]]\n",
            "\n",
            "\n",
            " [[[36 36 36]\n",
            "   [36 36 36]\n",
            "   [36 36 36]]\n",
            "\n",
            "  [[36 36 36]\n",
            "   [36 36 36]\n",
            "   [36 36 36]]]]\n",
            "---------------------\n",
            "[[[[-36 -34 -32]\n",
            "   [-30 -28 -26]\n",
            "   [-24 -22 -20]]\n",
            "\n",
            "  [[-18 -16 -14]\n",
            "   [-12 -10  -8]\n",
            "   [ -6  -4  -2]]]\n",
            "\n",
            "\n",
            " [[[  0   2   4]\n",
            "   [  6   8  10]\n",
            "   [ 12  14  16]]\n",
            "\n",
            "  [[ 18  20  22]\n",
            "   [ 24  26  28]\n",
            "   [ 30  32  34]]]]\n",
            "---------------------\n",
            "[[[[  93   90   87]\n",
            "   [ 390  378  366]\n",
            "   [ 687  666  645]]\n",
            "\n",
            "  [[ 714  684  654]\n",
            "   [ 930  891  852]\n",
            "   [1146 1098 1050]]]\n",
            "\n",
            "\n",
            " [[[ 849  792  735]\n",
            "   [ 984  918  852]\n",
            "   [1119 1044  969]]\n",
            "\n",
            "  [[ 498  414  330]\n",
            "   [ 552  459  366]\n",
            "   [ 606  504  402]]]]\n"
          ]
        }
      ]
    },
    {
      "cell_type": "markdown",
      "id": "7c857d78",
      "metadata": {
        "id": "7c857d78"
      },
      "source": [
        "## Calculate in paper then confirm your results using numpy.\n",
        "![image.png](attachment:image.png)"
      ]
    },
    {
      "cell_type": "code",
      "source": [
        "A = np.array([[3,1,0],\n",
        "     [2,1,2]])\n",
        "B = np.array([[1,3],\n",
        "     [2,5],\n",
        "     [-1,3]])\n",
        "C = np.matmul(A,B)\n",
        "C.transpose()"
      ],
      "metadata": {
        "colab": {
          "base_uri": "https://localhost:8080/"
        },
        "id": "D4EbT8PNzz5-",
        "outputId": "4eea76bd-c1f2-49a1-9085-9a016b4b8093"
      },
      "id": "D4EbT8PNzz5-",
      "execution_count": 58,
      "outputs": [
        {
          "output_type": "execute_result",
          "data": {
            "text/plain": [
              "array([[ 5,  2],\n",
              "       [14, 17]])"
            ]
          },
          "metadata": {},
          "execution_count": 58
        }
      ]
    },
    {
      "cell_type": "code",
      "source": [
        "A = np.array([[1,0,3],\n",
        "     [4,5,-1]\n",
        "     ,[0,0,2]])\n",
        "B = np.array([[1],\n",
        "     [2],\n",
        "     [5]])\n",
        "C = np.matmul(A,B)\n",
        "C.transpose()"
      ],
      "metadata": {
        "colab": {
          "base_uri": "https://localhost:8080/"
        },
        "id": "gbIl77OF1KFQ",
        "outputId": "eeec3aad-9aa5-490b-dffe-b88d5bf59a6b"
      },
      "id": "gbIl77OF1KFQ",
      "execution_count": 60,
      "outputs": [
        {
          "output_type": "execute_result",
          "data": {
            "text/plain": [
              "array([[16,  9, 10]])"
            ]
          },
          "metadata": {},
          "execution_count": 60
        }
      ]
    },
    {
      "cell_type": "markdown",
      "id": "14a22322",
      "metadata": {
        "id": "14a22322"
      },
      "source": [
        "## Different Types of Matrices\n",
        "#### Create 3 by 3 and 4 by 4 identity matrices "
      ]
    },
    {
      "cell_type": "code",
      "execution_count": 62,
      "id": "5aab96c8",
      "metadata": {
        "id": "5aab96c8",
        "colab": {
          "base_uri": "https://localhost:8080/"
        },
        "outputId": "60930c66-cb80-402c-8872-ff3c07901120"
      },
      "outputs": [
        {
          "output_type": "stream",
          "name": "stdout",
          "text": [
            "[[1. 0. 0.]\n",
            " [0. 1. 0.]\n",
            " [0. 0. 1.]]\n",
            "[[1. 0. 0. 0.]\n",
            " [0. 1. 0. 0.]\n",
            " [0. 0. 1. 0.]\n",
            " [0. 0. 0. 1.]]\n"
          ]
        }
      ],
      "source": [
        "from numpy import identity\n",
        "a = identity(3)\n",
        "print(a)\n",
        "b = identity(4)\n",
        "print(b)"
      ]
    },
    {
      "cell_type": "markdown",
      "id": "5a75e4e1",
      "metadata": {
        "id": "5a75e4e1"
      },
      "source": [
        "#### Create a diagonal matrix contains [2,4,5,11] numbers in it's diagonal."
      ]
    },
    {
      "cell_type": "code",
      "execution_count": 65,
      "id": "82afeea3",
      "metadata": {
        "id": "82afeea3",
        "colab": {
          "base_uri": "https://localhost:8080/"
        },
        "outputId": "d812b1e9-0341-4cf9-d15d-bdadbccf9ff7"
      },
      "outputs": [
        {
          "output_type": "execute_result",
          "data": {
            "text/plain": [
              "array([[ 2,  0,  0,  0],\n",
              "       [ 0,  4,  0,  0],\n",
              "       [ 0,  0,  5,  0],\n",
              "       [ 0,  0,  0, 11]])"
            ]
          },
          "metadata": {},
          "execution_count": 65
        }
      ],
      "source": [
        "from numpy import diag\n",
        "a = diag([2,4,5,11],k=0)\n",
        "a"
      ]
    },
    {
      "cell_type": "markdown",
      "id": "cb1e9b3b",
      "metadata": {
        "id": "cb1e9b3b"
      },
      "source": [
        "#### Create a 5 by 5 scalar matrix of number 7"
      ]
    },
    {
      "cell_type": "code",
      "execution_count": 66,
      "id": "5f55c986",
      "metadata": {
        "id": "5f55c986",
        "colab": {
          "base_uri": "https://localhost:8080/"
        },
        "outputId": "a68a5d81-c91d-4501-caf4-fc5c07d1a697"
      },
      "outputs": [
        {
          "output_type": "execute_result",
          "data": {
            "text/plain": [
              "array([[7., 7., 7., 7., 7.],\n",
              "       [7., 7., 7., 7., 7.],\n",
              "       [7., 7., 7., 7., 7.],\n",
              "       [7., 7., 7., 7., 7.],\n",
              "       [7., 7., 7., 7., 7.]])"
            ]
          },
          "metadata": {},
          "execution_count": 66
        }
      ],
      "source": [
        "b = np.ones((5,5))*7\n",
        "b"
      ]
    },
    {
      "cell_type": "markdown",
      "id": "8d931850",
      "metadata": {
        "id": "8d931850"
      },
      "source": [
        "#### Using SymPy get the rref of the following matrices"
      ]
    },
    {
      "cell_type": "code",
      "execution_count": 69,
      "id": "5b950667",
      "metadata": {
        "scrolled": true,
        "id": "5b950667",
        "outputId": "521bbf01-93f2-4344-a5c9-1f7ca0bee4d9",
        "colab": {
          "base_uri": "https://localhost:8080/",
          "height": 78
        }
      },
      "outputs": [
        {
          "output_type": "execute_result",
          "data": {
            "text/plain": [
              "Matrix([\n",
              "[ 1,  0,  1,  3],\n",
              "[ 2,  3,  4,  7],\n",
              "[-1, -3, -3, -4]])"
            ],
            "text/latex": "$\\displaystyle \\left[\\begin{matrix}1 & 0 & 1 & 3\\\\2 & 3 & 4 & 7\\\\-1 & -3 & -3 & -4\\end{matrix}\\right]$"
          },
          "metadata": {},
          "execution_count": 69
        }
      ],
      "source": [
        "from numpy.matrixlib.defmatrix import matrix\n",
        "import sympy as sm \n",
        "\n",
        "A = np.array([[1,0,1,3],\n",
        "              [2,3,4,7],\n",
        "              [-1,-3,-3,-4]])\n",
        "M = sm.Matrix(A)\n",
        "M"
      ]
    },
    {
      "cell_type": "code",
      "source": [
        "M.rref()"
      ],
      "metadata": {
        "colab": {
          "base_uri": "https://localhost:8080/"
        },
        "id": "Aol-P15o4qRv",
        "outputId": "e138daf2-a639-483a-aeca-74e0924e245a"
      },
      "id": "Aol-P15o4qRv",
      "execution_count": 70,
      "outputs": [
        {
          "output_type": "execute_result",
          "data": {
            "text/plain": [
              "(Matrix([\n",
              " [1, 0,   1,   3],\n",
              " [0, 1, 2/3, 1/3],\n",
              " [0, 0,   0,   0]]), (0, 1))"
            ]
          },
          "metadata": {},
          "execution_count": 70
        }
      ]
    },
    {
      "cell_type": "code",
      "execution_count": 71,
      "id": "3316ee5c",
      "metadata": {
        "scrolled": true,
        "id": "3316ee5c",
        "outputId": "15a6a8c2-4579-4ac1-9e11-aa3919d55ce9",
        "colab": {
          "base_uri": "https://localhost:8080/",
          "height": 78
        }
      },
      "outputs": [
        {
          "output_type": "execute_result",
          "data": {
            "text/plain": [
              "Matrix([\n",
              "[1, 1, 1],\n",
              "[1, 2, 2],\n",
              "[1, 2, 3]])"
            ],
            "text/latex": "$\\displaystyle \\left[\\begin{matrix}1 & 1 & 1\\\\1 & 2 & 2\\\\1 & 2 & 3\\end{matrix}\\right]$"
          },
          "metadata": {},
          "execution_count": 71
        }
      ],
      "source": [
        "B = np.array([[1,1,1],\n",
        "              [1,2,2],\n",
        "              [1,2,3]])\n",
        "M = sm.Matrix(B)\n",
        "M"
      ]
    },
    {
      "cell_type": "code",
      "source": [
        "M.rref()"
      ],
      "metadata": {
        "colab": {
          "base_uri": "https://localhost:8080/"
        },
        "id": "SkS8E2Qz4zPJ",
        "outputId": "a67e5a9e-424e-4054-a2d8-854e61e6e96f"
      },
      "id": "SkS8E2Qz4zPJ",
      "execution_count": 72,
      "outputs": [
        {
          "output_type": "execute_result",
          "data": {
            "text/plain": [
              "(Matrix([\n",
              " [1, 0, 0],\n",
              " [0, 1, 0],\n",
              " [0, 0, 1]]), (0, 1, 2))"
            ]
          },
          "metadata": {},
          "execution_count": 72
        }
      ]
    },
    {
      "cell_type": "code",
      "execution_count": 73,
      "id": "1ba464af",
      "metadata": {
        "id": "1ba464af",
        "outputId": "a34d8296-dc77-4df0-e299-f2c6966a2f91",
        "colab": {
          "base_uri": "https://localhost:8080/",
          "height": 78
        }
      },
      "outputs": [
        {
          "output_type": "execute_result",
          "data": {
            "text/plain": [
              "Matrix([\n",
              "[1,  2,  3],\n",
              "[2, -1,  1],\n",
              "[3,  0, -1]])"
            ],
            "text/latex": "$\\displaystyle \\left[\\begin{matrix}1 & 2 & 3\\\\2 & -1 & 1\\\\3 & 0 & -1\\end{matrix}\\right]$"
          },
          "metadata": {},
          "execution_count": 73
        }
      ],
      "source": [
        "C = np.array([[1,2,3],\n",
        "              [2,-1,1],\n",
        "              [3,0,-1]])\n",
        "M = sm.Matrix(C)\n",
        "M"
      ]
    },
    {
      "cell_type": "code",
      "source": [
        "M.rref()"
      ],
      "metadata": {
        "colab": {
          "base_uri": "https://localhost:8080/"
        },
        "id": "xMVrPusP5O9P",
        "outputId": "07544a11-14e0-4465-ebf4-6a939223295b"
      },
      "id": "xMVrPusP5O9P",
      "execution_count": 74,
      "outputs": [
        {
          "output_type": "execute_result",
          "data": {
            "text/plain": [
              "(Matrix([\n",
              " [1, 0, 0],\n",
              " [0, 1, 0],\n",
              " [0, 0, 1]]), (0, 1, 2))"
            ]
          },
          "metadata": {},
          "execution_count": 74
        }
      ]
    },
    {
      "cell_type": "markdown",
      "id": "df266b94",
      "metadata": {
        "id": "df266b94"
      },
      "source": [
        "#### Find the solution of the following system of linear equation using SymPy Matrix rref()"
      ]
    },
    {
      "cell_type": "markdown",
      "id": "dbb95d0c",
      "metadata": {
        "id": "dbb95d0c"
      },
      "source": [
        "![image-2.png](attachment:image-2.png)\n",
        "![image-3.png](attachment:image-3.png)"
      ]
    },
    {
      "cell_type": "code",
      "execution_count": 76,
      "id": "bac04799",
      "metadata": {
        "id": "bac04799",
        "colab": {
          "base_uri": "https://localhost:8080/"
        },
        "outputId": "1d1f999c-0d79-47b7-f83e-b6d1c68d6584"
      },
      "outputs": [
        {
          "output_type": "execute_result",
          "data": {
            "text/plain": [
              "(Matrix([\n",
              " [1, 0, 0, 3],\n",
              " [0, 1, 0, 2],\n",
              " [0, 0, 1, 1]]), (0, 1, 2))"
            ]
          },
          "metadata": {},
          "execution_count": 76
        }
      ],
      "source": [
        "S = sm.Matrix(np.array([[1,1,1,6],\n",
        "              [1,2,2,9],\n",
        "              [1,2,3,10]]))\n",
        "S.rref()"
      ]
    },
    {
      "cell_type": "code",
      "execution_count": 77,
      "id": "f79835cf",
      "metadata": {
        "id": "f79835cf",
        "colab": {
          "base_uri": "https://localhost:8080/"
        },
        "outputId": "ccc11e34-91ff-45e6-da0a-850c75febd92"
      },
      "outputs": [
        {
          "output_type": "execute_result",
          "data": {
            "text/plain": [
              "(Matrix([\n",
              " [1, 0, 0,  2],\n",
              " [0, 1, 0, -1],\n",
              " [0, 0, 1,  3]]), (0, 1, 2))"
            ]
          },
          "metadata": {},
          "execution_count": 77
        }
      ],
      "source": [
        "S = sm.Matrix(np.array([[1,2,3,9],\n",
        "              [2,-1,1,8],\n",
        "              [3,0,-1,3]]))\n",
        "S.rref()"
      ]
    },
    {
      "cell_type": "code",
      "execution_count": null,
      "id": "a737471c",
      "metadata": {
        "id": "a737471c"
      },
      "outputs": [],
      "source": []
    },
    {
      "cell_type": "markdown",
      "id": "a450fb94",
      "metadata": {
        "id": "a450fb94"
      },
      "source": [
        "#### Find the solution of the following system of linear equation \n",
        "- By hand (Paper and pen)\n",
        "- Confirm your answer using SymPy Matrix rref()\n",
        "\n",
        "![image.png](attachment:image.png)\n",
        "![image-2.png](attachment:image-2.png)\n",
        "![image-3.png](attachment:image-3.png)\n",
        "![image-5.png](attachment:image-5.png)"
      ]
    },
    {
      "cell_type": "code",
      "execution_count": 79,
      "id": "4c17cc14",
      "metadata": {
        "id": "4c17cc14",
        "colab": {
          "base_uri": "https://localhost:8080/"
        },
        "outputId": "7d8f0d90-7535-4e13-d600-c817295f878e"
      },
      "outputs": [
        {
          "output_type": "execute_result",
          "data": {
            "text/plain": [
              "(Matrix([\n",
              " [1, 0, 0, 0],\n",
              " [0, 1, 0, 0],\n",
              " [0, 0, 1, 2]]), (0, 1, 2))"
            ]
          },
          "metadata": {},
          "execution_count": 79
        }
      ],
      "source": [
        "S = np.array([[1,2,3,6],\n",
        "              [2,5,2,4],\n",
        "              [6,-3,1,2]])\n",
        "S1 = sm.Matrix(S)\n",
        "S1.rref()"
      ]
    },
    {
      "cell_type": "code",
      "execution_count": 80,
      "id": "5dd24d62",
      "metadata": {
        "id": "5dd24d62",
        "colab": {
          "base_uri": "https://localhost:8080/"
        },
        "outputId": "1ff6e219-b216-45af-b066-1a0a13f94da8"
      },
      "outputs": [
        {
          "output_type": "execute_result",
          "data": {
            "text/plain": [
              "(Matrix([\n",
              " [1, 0, 0, -1],\n",
              " [0, 1, 0,  2],\n",
              " [0, 0, 1,  2]]), (0, 1, 2))"
            ]
          },
          "metadata": {},
          "execution_count": 80
        }
      ],
      "source": [
        "S = np.array([[2,4,-2,2],\n",
        "              [4,9,-3,8],\n",
        "              [-2,-3,7,10]])\n",
        "S1 = sm.Matrix(S)\n",
        "S1.rref()"
      ]
    },
    {
      "cell_type": "code",
      "execution_count": 81,
      "id": "8a2f0399",
      "metadata": {
        "id": "8a2f0399",
        "colab": {
          "base_uri": "https://localhost:8080/"
        },
        "outputId": "a3650a43-3c5e-4f2c-a7ec-b9ee98f3232b"
      },
      "outputs": [
        {
          "output_type": "execute_result",
          "data": {
            "text/plain": [
              "(Matrix([\n",
              " [1, -2, 0],\n",
              " [0,  0, 1]]), (0, 2))"
            ]
          },
          "metadata": {},
          "execution_count": 81
        }
      ],
      "source": [
        "S = np.array([[1,-2,1],\n",
        "              [3,-6,11]])\n",
        "S1 = sm.Matrix(S)\n",
        "S1.rref()"
      ]
    },
    {
      "cell_type": "code",
      "execution_count": 82,
      "id": "1e9eb2b6",
      "metadata": {
        "id": "1e9eb2b6",
        "colab": {
          "base_uri": "https://localhost:8080/"
        },
        "outputId": "9be0f3bd-4e52-46db-ad11-d9a0c87ac6bf"
      },
      "outputs": [
        {
          "output_type": "execute_result",
          "data": {
            "text/plain": [
              "(Matrix([\n",
              " [1, -2, 1],\n",
              " [0,  0, 0]]), (0,))"
            ]
          },
          "metadata": {},
          "execution_count": 82
        }
      ],
      "source": [
        "S = np.array([[1,-2,1],\n",
        "              [3,-6,3]])\n",
        "S1 = sm.Matrix(S)\n",
        "S1.rref()"
      ]
    },
    {
      "cell_type": "code",
      "source": [],
      "metadata": {
        "id": "utolZpf799dK"
      },
      "id": "utolZpf799dK",
      "execution_count": null,
      "outputs": []
    }
  ],
  "metadata": {
    "kernelspec": {
      "display_name": "Python 3 (ipykernel)",
      "language": "python",
      "name": "python3"
    },
    "language_info": {
      "codemirror_mode": {
        "name": "ipython",
        "version": 3
      },
      "file_extension": ".py",
      "mimetype": "text/x-python",
      "name": "python",
      "nbconvert_exporter": "python",
      "pygments_lexer": "ipython3",
      "version": "3.9.12"
    },
    "colab": {
      "provenance": []
    }
  },
  "nbformat": 4,
  "nbformat_minor": 5
}