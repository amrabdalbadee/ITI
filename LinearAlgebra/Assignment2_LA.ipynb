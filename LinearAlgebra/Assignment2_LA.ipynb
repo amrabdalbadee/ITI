{
  "nbformat": 4,
  "nbformat_minor": 0,
  "metadata": {
    "colab": {
      "provenance": []
    },
    "kernelspec": {
      "name": "python3",
      "display_name": "Python 3"
    },
    "language_info": {
      "name": "python"
    }
  },
  "cells": [
    {
      "cell_type": "markdown",
      "source": [
        "#**Homework**"
      ],
      "metadata": {
        "id": "_fukiKa3EMa8"
      }
    },
    {
      "cell_type": "code",
      "source": [
        "import numpy as np\n",
        "import sympy as sm"
      ],
      "metadata": {
        "id": "bPybuFfgER1t"
      },
      "execution_count": null,
      "outputs": []
    },
    {
      "cell_type": "markdown",
      "source": [
        "##**1**"
      ],
      "metadata": {
        "id": "Rqn0UZ0uTVAp"
      }
    },
    {
      "cell_type": "code",
      "source": [
        "w = np.array([[-5],[11],[8]])\n",
        "V = np.array([[1,0,2],\n",
        "              [-2,5,0],\n",
        "              [2,5,8]])\n",
        "aug = np.concatenate((V,w),axis=1)\n",
        "sm.Matrix(aug).rref()"
      ],
      "metadata": {
        "colab": {
          "base_uri": "https://localhost:8080/"
        },
        "id": "M2ULCY5USWbA",
        "outputId": "fda94787-16ea-4124-c0d5-ca355e33e796"
      },
      "execution_count": null,
      "outputs": [
        {
          "output_type": "execute_result",
          "data": {
            "text/plain": [
              "(Matrix([\n",
              " [1, 0,   2, 0],\n",
              " [0, 1, 4/5, 0],\n",
              " [0, 0,   0, 1]]), (0, 1, 3))"
            ]
          },
          "metadata": {},
          "execution_count": 27
        }
      ]
    },
    {
      "cell_type": "markdown",
      "source": [
        "##**2**"
      ],
      "metadata": {
        "id": "eWpKwLLATXX0"
      }
    },
    {
      "cell_type": "code",
      "source": [
        "set_vectors = np.array([[1, 1, 0],\n",
        "                        [0, 2, 1],\n",
        "                        [1, 2, 2],\n",
        "                        [2, 1, 1]])\n",
        "sm.Matrix(set_vectors).rref()"
      ],
      "metadata": {
        "colab": {
          "base_uri": "https://localhost:8080/"
        },
        "id": "1cisIe3MTh96",
        "outputId": "1af2e8e9-2e3c-4c1a-9a51-c941a64078ae"
      },
      "execution_count": null,
      "outputs": [
        {
          "output_type": "execute_result",
          "data": {
            "text/plain": [
              "(Matrix([\n",
              " [1, 0, 0],\n",
              " [0, 1, 0],\n",
              " [0, 0, 1],\n",
              " [0, 0, 0]]), (0, 1, 2))"
            ]
          },
          "metadata": {},
          "execution_count": 28
        }
      ]
    },
    {
      "cell_type": "markdown",
      "source": [
        "**this set is dependant as they have infinte solutions for a and b and c**"
      ],
      "metadata": {
        "id": "uMLVR7lxUiNa"
      }
    },
    {
      "cell_type": "markdown",
      "source": [
        "##**3**"
      ],
      "metadata": {
        "id": "S0gq3XJWTYtM"
      }
    },
    {
      "cell_type": "markdown",
      "source": [
        "**Ve = b_basis * Vb , Vb = inv_b_basis * Ve**"
      ],
      "metadata": {
        "id": "yPsuCX30Xcdr"
      }
    },
    {
      "cell_type": "code",
      "source": [
        "b = np.array([[3, 4],\n",
        "              [4, -3]])\n",
        "ve = Ve = np.array([[10],\n",
        "              [-5]])\n",
        "b_inverse = np.linalg.inv(b)\n",
        "vb = b_inverse@ve\n",
        "vb"
      ],
      "metadata": {
        "colab": {
          "base_uri": "https://localhost:8080/"
        },
        "id": "difLRpRwUlbe",
        "outputId": "dc01129f-b40c-451d-95d1-5a4a9c2d1ce7"
      },
      "execution_count": 61,
      "outputs": [
        {
          "output_type": "execute_result",
          "data": {
            "text/plain": [
              "array([[0.4],\n",
              "       [2.2]])"
            ]
          },
          "metadata": {},
          "execution_count": 61
        }
      ]
    },
    {
      "cell_type": "code",
      "source": [
        "b_inverse = np.linalg.inv(b)\n",
        "ve = b_inverse@vb\n",
        "ve"
      ],
      "metadata": {
        "colab": {
          "base_uri": "https://localhost:8080/"
        },
        "id": "yW8e4TXRdOSa",
        "outputId": "98bb0106-24c1-441a-c286-71c95c7e141f"
      },
      "execution_count": null,
      "outputs": [
        {
          "output_type": "execute_result",
          "data": {
            "text/plain": [
              "array([[10.],\n",
              "       [-5.]])"
            ]
          },
          "metadata": {},
          "execution_count": 33
        }
      ]
    },
    {
      "cell_type": "markdown",
      "source": [
        "##**4**"
      ],
      "metadata": {
        "id": "Qxm4p8EDTaFK"
      }
    },
    {
      "cell_type": "code",
      "source": [
        "T_A = np.array([[0,2,-1],\n",
        "              [3,1,1],\n",
        "              [0,-1,-2]])\n",
        "\n",
        "T_A@ np.eye(3)"
      ],
      "metadata": {
        "colab": {
          "base_uri": "https://localhost:8080/"
        },
        "id": "JhCwMenVYTEm",
        "outputId": "204e0c6c-b53b-4552-c1ad-9f0b8296a607"
      },
      "execution_count": null,
      "outputs": [
        {
          "output_type": "execute_result",
          "data": {
            "text/plain": [
              "array([[ 0.,  2., -1.],\n",
              "       [ 3.,  1.,  1.],\n",
              "       [ 0., -1., -2.]])"
            ]
          },
          "metadata": {},
          "execution_count": 34
        }
      ]
    },
    {
      "cell_type": "code",
      "source": [
        "B = np.array([[1,-1,1],\n",
        "                [0,1,2],\n",
        "                [0,0,-1]])\n",
        "T_A@B"
      ],
      "metadata": {
        "colab": {
          "base_uri": "https://localhost:8080/"
        },
        "id": "nzBnilgpYxcE",
        "outputId": "c5bfe68f-d980-42c8-ef29-9425a5f2cd00"
      },
      "execution_count": null,
      "outputs": [
        {
          "output_type": "execute_result",
          "data": {
            "text/plain": [
              "array([[ 0,  2,  5],\n",
              "       [ 3, -2,  4],\n",
              "       [ 0, -1,  0]])"
            ]
          },
          "metadata": {},
          "execution_count": 35
        }
      ]
    },
    {
      "cell_type": "markdown",
      "source": [
        "##**5**"
      ],
      "metadata": {
        "id": "SvSvBt45Tbqi"
      }
    },
    {
      "cell_type": "code",
      "source": [
        "np.linalg.inv([[1,1],[1,-1]])"
      ],
      "metadata": {
        "colab": {
          "base_uri": "https://localhost:8080/"
        },
        "id": "T1nxmRmeeGHn",
        "outputId": "519d3b04-2644-4369-c3e4-3f2859760655"
      },
      "execution_count": null,
      "outputs": [
        {
          "output_type": "execute_result",
          "data": {
            "text/plain": [
              "array([[ 0.5,  0.5],\n",
              "       [ 0.5, -0.5]])"
            ]
          },
          "metadata": {},
          "execution_count": 36
        }
      ]
    },
    {
      "cell_type": "code",
      "source": [
        "np.linalg.inv([[1,2],[3,5]])"
      ],
      "metadata": {
        "colab": {
          "base_uri": "https://localhost:8080/"
        },
        "id": "DlPUxdayeGWQ",
        "outputId": "e7acb6e7-0208-4334-d65a-e72067cf8052"
      },
      "execution_count": null,
      "outputs": [
        {
          "output_type": "execute_result",
          "data": {
            "text/plain": [
              "array([[-5.,  2.],\n",
              "       [ 3., -1.]])"
            ]
          },
          "metadata": {},
          "execution_count": 37
        }
      ]
    },
    {
      "cell_type": "code",
      "source": [
        "np.linalg.inv([[1,0,1],[0,1,1],[1,1,1]])"
      ],
      "metadata": {
        "colab": {
          "base_uri": "https://localhost:8080/"
        },
        "id": "HCgiKD_RePaw",
        "outputId": "71f3924e-1f3f-458f-ea64-3b721a35d55b"
      },
      "execution_count": null,
      "outputs": [
        {
          "output_type": "execute_result",
          "data": {
            "text/plain": [
              "array([[ 0., -1.,  1.],\n",
              "       [-1.,  0.,  1.],\n",
              "       [ 1.,  1., -1.]])"
            ]
          },
          "metadata": {},
          "execution_count": 38
        }
      ]
    },
    {
      "cell_type": "markdown",
      "source": [
        "##**6**"
      ],
      "metadata": {
        "id": "ZN_CwGgdeZKJ"
      }
    },
    {
      "cell_type": "code",
      "source": [
        "b_basis = np.array([[1, -1, 1],\n",
        "                    [1, 1, 2],\n",
        "                    [1, 0, 1]])\n",
        "sm.Matrix(b_basis).rref()"
      ],
      "metadata": {
        "colab": {
          "base_uri": "https://localhost:8080/"
        },
        "id": "7_hSY-R1eg0j",
        "outputId": "eeaaa0b7-7613-4469-8ba7-9207d3e3a730"
      },
      "execution_count": null,
      "outputs": [
        {
          "output_type": "execute_result",
          "data": {
            "text/plain": [
              "(Matrix([\n",
              " [1, 0, 0],\n",
              " [0, 1, 0],\n",
              " [0, 0, 1]]), (0, 1, 2))"
            ]
          },
          "metadata": {},
          "execution_count": 58
        }
      ]
    },
    {
      "cell_type": "code",
      "source": [
        "v = np.array([[3],[2],[4]])\n",
        "T_reflection = np.array([[1,0,0],\n",
        "                        [0,1,0],\n",
        "                        [0,0,-1]])\n",
        "inv_b_basis = np.linalg.inv(b_basis)\n",
        "b_basis@T_reflection@inv_b_basis@v"
      ],
      "metadata": {
        "colab": {
          "base_uri": "https://localhost:8080/"
        },
        "id": "8hzMRVWve1X9",
        "outputId": "fdbe150f-0159-439d-feb1-49213f551c7d"
      },
      "execution_count": null,
      "outputs": [
        {
          "output_type": "execute_result",
          "data": {
            "text/plain": [
              "array([[ 9.],\n",
              "       [14.],\n",
              "       [10.]])"
            ]
          },
          "metadata": {},
          "execution_count": 42
        }
      ]
    },
    {
      "cell_type": "code",
      "source": [
        "np.linalg.det(b_basis)\n",
        "#the determinant != zero, so the basis are not orthonormal"
      ],
      "metadata": {
        "colab": {
          "base_uri": "https://localhost:8080/"
        },
        "id": "ShxhsAmLgmBc",
        "outputId": "9f7b5bb9-f8ac-42f3-8f7a-6813546fd870"
      },
      "execution_count": null,
      "outputs": [
        {
          "output_type": "execute_result",
          "data": {
            "text/plain": [
              "-1.0"
            ]
          },
          "metadata": {},
          "execution_count": 47
        }
      ]
    },
    {
      "cell_type": "code",
      "source": [
        "def projection(x,y):\n",
        "\n",
        "  return ((x@y) / np.linalg.norm(y,2)**2) * y"
      ],
      "metadata": {
        "id": "dkyPQapahhZU"
      },
      "execution_count": null,
      "outputs": []
    },
    {
      "cell_type": "code",
      "source": [
        "u1 = b_basis[:,0]\n",
        "u2 = b_basis[:,1] - projection(b_basis[:, 1], u1)\n",
        "u3 = b_basis[:, 2] - projection(b_basis[:, 2], u1) - projection(b_basis[:, 2], u2)\n",
        "print(u1,u2,u3)\n",
        "e1 = u1/np.linalg.norm(u1,2)\n",
        "e2 = u2/np.linalg.norm(u2,2)\n",
        "e3 = u3/np.linalg.norm(u3,2)\n",
        "print(e1,e2,e3)"
      ],
      "metadata": {
        "colab": {
          "base_uri": "https://localhost:8080/"
        },
        "id": "zzPLDgcphhkj",
        "outputId": "b80b88a8-d030-45d0-918e-b133c0450af9"
      },
      "execution_count": null,
      "outputs": [
        {
          "output_type": "stream",
          "name": "stdout",
          "text": [
            "[1 1 1] [-1.  1.  0.] [ 0.16666667  0.16666667 -0.33333333]\n",
            "[0.57735027 0.57735027 0.57735027] [-0.70710678  0.70710678  0.        ] [ 0.40824829  0.40824829 -0.81649658]\n"
          ]
        }
      ]
    },
    {
      "cell_type": "markdown",
      "source": [
        "##**7**"
      ],
      "metadata": {
        "id": "APvKoP8AebjD"
      }
    },
    {
      "cell_type": "code",
      "source": [
        "basis = np.array([[0,1,1,1],\n",
        "                   [2,-1,2,0],\n",
        "                   [1,0,0,0],\n",
        "                   [0,0,-1,1]])\n",
        "sm.Matrix(basis).rref()"
      ],
      "metadata": {
        "colab": {
          "base_uri": "https://localhost:8080/"
        },
        "id": "KDgK2dIjgAEN",
        "outputId": "a2440083-0190-40ef-ca18-c5a8134f60c3"
      },
      "execution_count": null,
      "outputs": [
        {
          "output_type": "execute_result",
          "data": {
            "text/plain": [
              "(Matrix([\n",
              " [1, 0, 0, 0],\n",
              " [0, 1, 0, 0],\n",
              " [0, 0, 1, 0],\n",
              " [0, 0, 0, 1]]), (0, 1, 2, 3))"
            ]
          },
          "metadata": {},
          "execution_count": 56
        }
      ]
    },
    {
      "cell_type": "code",
      "source": [
        "u1 = basis[:,0]\n",
        "u2 = basis[:,1] - projection(basis[:, 1], u1) \n",
        "u3 = basis[:, 2] - projection(basis[:, 2], u1) - projection(basis[:, 2], u2)                                                             \n",
        "u4 = basis[:, 3] - projection(basis[:, 3], u1) - projection(basis[:, 3], u2) - projection(basis[:, 3], u3)\n",
        "print(u1,u2,u3,u4)\n",
        "e1 = u1 / np.linalg.norm(u1)\n",
        "e2 = u2 / np.linalg.norm(u2)\n",
        "e3 = u3 / np.linalg.norm(u3)\n",
        "e4 = u4 / np.linalg.norm(u4)\n",
        "print(e1,e2,e3,e4)"
      ],
      "metadata": {
        "colab": {
          "base_uri": "https://localhost:8080/"
        },
        "id": "4dHqzATOj9BK",
        "outputId": "2b86d17e-34c3-4054-bd4d-c2867ce57a4b"
      },
      "execution_count": null,
      "outputs": [
        {
          "output_type": "stream",
          "name": "stdout",
          "text": [
            "[0 2 1 0] [ 1.  -0.2  0.4  0. ] [ 0.5  0.5 -1.  -1. ] [ 0.26666667  0.26666667 -0.53333333  0.8       ]\n",
            "[0.         0.89442719 0.4472136  0.        ] [ 0.91287093 -0.18257419  0.36514837  0.        ] [ 0.31622777  0.31622777 -0.63245553 -0.63245553] [ 0.25819889  0.25819889 -0.51639778  0.77459667]\n"
          ]
        }
      ]
    },
    {
      "cell_type": "markdown",
      "source": [
        "#**QUIZ**"
      ],
      "metadata": {
        "id": "erTgHwrtESYM"
      }
    },
    {
      "cell_type": "markdown",
      "source": [
        "##**1**"
      ],
      "metadata": {
        "id": "7iHoZQmHHxkX"
      }
    },
    {
      "cell_type": "code",
      "execution_count": null,
      "metadata": {
        "colab": {
          "base_uri": "https://localhost:8080/"
        },
        "id": "tJtcaPAEEJ8O",
        "outputId": "e1b7f6c7-8624-4990-80e9-fa51fe3ad46e"
      },
      "outputs": [
        {
          "output_type": "execute_result",
          "data": {
            "text/plain": [
              "(Matrix([\n",
              " [  1,   0, 0,  4.0],\n",
              " [0.0,   1, 0,  7.0],\n",
              " [0.0, 0.0, 1, -1.0]]), (0, 1, 2))"
            ]
          },
          "metadata": {},
          "execution_count": 3
        }
      ],
      "source": [
        "v = np.array([[4], [7], [-1]])\n",
        "S = np.eye(3)\n",
        "aug = np.concatenate((S,v), axis = 1)\n",
        "sm.Matrix(aug).rref()"
      ]
    },
    {
      "cell_type": "markdown",
      "source": [
        "**v is in the span on S as they are independant orthogonal vectors**"
      ],
      "metadata": {
        "id": "aH7fTTFxIJwq"
      }
    },
    {
      "cell_type": "markdown",
      "source": [
        "##**2**"
      ],
      "metadata": {
        "id": "Mpf1fuB5H04Q"
      }
    },
    {
      "cell_type": "markdown",
      "source": [
        "**a * v1 + b * v2 + c * v3 = 0**"
      ],
      "metadata": {
        "id": "UOSnbST-Iueo"
      }
    },
    {
      "cell_type": "code",
      "source": [
        "v1 = [[4],[5]]\n",
        "v2 = [[1],[2]]\n",
        "v3 = [[0],[1]]\n",
        "r = [[0],[0]]\n",
        "M = np.concatenate((v1,v2,v3,r),axis=1)\n",
        "sm.Matrix(M).rref()"
      ],
      "metadata": {
        "colab": {
          "base_uri": "https://localhost:8080/"
        },
        "id": "11hoNU0mIYku",
        "outputId": "afad871b-97df-480b-c2f1-c65cb0b659ca"
      },
      "execution_count": null,
      "outputs": [
        {
          "output_type": "execute_result",
          "data": {
            "text/plain": [
              "(Matrix([\n",
              " [1, 0, -1/3, 0],\n",
              " [0, 1,  4/3, 0]]), (0, 1))"
            ]
          },
          "metadata": {},
          "execution_count": 12
        }
      ]
    },
    {
      "cell_type": "markdown",
      "source": [
        "**The third vector is a linear combination of the first and second vector**\n",
        "**a = -1/3**\n",
        "**b = 4/3**"
      ],
      "metadata": {
        "id": "u_sK75QVJra0"
      }
    },
    {
      "cell_type": "markdown",
      "source": [
        "##**3**"
      ],
      "metadata": {
        "id": "1H4qJ6MxH2CO"
      }
    },
    {
      "cell_type": "code",
      "source": [
        "M = [[1,0,0],\n",
        "     [0,1,2],\n",
        "     [0,0,1]]\n",
        "sm.Matrix(M).rref()"
      ],
      "metadata": {
        "colab": {
          "base_uri": "https://localhost:8080/"
        },
        "id": "TZ1F-by5MWMB",
        "outputId": "20dff490-cfa7-4111-8493-0f2331129cac"
      },
      "execution_count": null,
      "outputs": [
        {
          "output_type": "execute_result",
          "data": {
            "text/plain": [
              "(Matrix([\n",
              " [1, 0, 0],\n",
              " [0, 1, 0],\n",
              " [0, 0, 1]]), (0, 1, 2))"
            ]
          },
          "metadata": {},
          "execution_count": 13
        }
      ]
    },
    {
      "cell_type": "markdown",
      "source": [
        "**yes because they are linearly independant**"
      ],
      "metadata": {
        "id": "zxlRdc5-MpNV"
      }
    },
    {
      "cell_type": "markdown",
      "source": [
        "##**4**"
      ],
      "metadata": {
        "id": "LzMlrYKOH5mF"
      }
    },
    {
      "cell_type": "code",
      "source": [
        "M = np.eye(4)\n",
        "\n",
        "sm.Matrix(M).rref()"
      ],
      "metadata": {
        "colab": {
          "base_uri": "https://localhost:8080/"
        },
        "id": "9NFhJs8qMwkV",
        "outputId": "563568ae-6737-44bb-d04b-13d695b4362e"
      },
      "execution_count": null,
      "outputs": [
        {
          "output_type": "execute_result",
          "data": {
            "text/plain": [
              "(Matrix([\n",
              " [  1,   0,   0, 0],\n",
              " [0.0,   1,   0, 0],\n",
              " [0.0, 0.0,   1, 0],\n",
              " [0.0, 0.0, 0.0, 1]]), (0, 1, 2, 3))"
            ]
          },
          "metadata": {},
          "execution_count": 14
        }
      ]
    },
    {
      "cell_type": "markdown",
      "source": [
        "**yes because they are linearly independant**"
      ],
      "metadata": {
        "id": "wYBJfCHUMv5A"
      }
    },
    {
      "cell_type": "markdown",
      "source": [
        "##**5**"
      ],
      "metadata": {
        "id": "uXbnW_P4H1-U"
      }
    },
    {
      "cell_type": "markdown",
      "source": [
        "**Ve = b_basis * Vb , Vb = inv_b_basis * Ve**"
      ],
      "metadata": {
        "id": "tIqCdireNk7-"
      }
    },
    {
      "cell_type": "code",
      "source": [
        "Vb = np.array([[1], \n",
        "               [3]])\n",
        "b_basis = np.array(np.array([[4.5, -0.5],\n",
        "                             [-2.5, 0.5]]))\n",
        "#b_inverse = np.linalg.inv(b_basis)\n",
        "Ve = b_basis @Vb\n",
        "Ve"
      ],
      "metadata": {
        "colab": {
          "base_uri": "https://localhost:8080/"
        },
        "id": "2DUFt6lnHhiL",
        "outputId": "4fab9d89-8af7-47ba-f94e-eda56b193998"
      },
      "execution_count": 60,
      "outputs": [
        {
          "output_type": "execute_result",
          "data": {
            "text/plain": [
              "array([[ 3.],\n",
              "       [-1.]])"
            ]
          },
          "metadata": {},
          "execution_count": 60
        }
      ]
    },
    {
      "cell_type": "markdown",
      "source": [
        "##**6**"
      ],
      "metadata": {
        "id": "_KlJQr5SOuvv"
      }
    },
    {
      "cell_type": "markdown",
      "source": [
        "**Reflection**"
      ],
      "metadata": {
        "id": "cpqeD3hWO2n_"
      }
    },
    {
      "cell_type": "code",
      "source": [
        "Tr = np.array([[1,0],\n",
        "              [0,-1]])\n",
        "Tr"
      ],
      "metadata": {
        "colab": {
          "base_uri": "https://localhost:8080/"
        },
        "id": "_9HLfoujPBn9",
        "outputId": "c46b6b7a-2c69-4d2b-8685-7b9055db1790"
      },
      "execution_count": null,
      "outputs": [
        {
          "output_type": "execute_result",
          "data": {
            "text/plain": [
              "array([[ 1,  0],\n",
              "       [ 0, -1]])"
            ]
          },
          "metadata": {},
          "execution_count": 17
        }
      ]
    },
    {
      "cell_type": "markdown",
      "source": [
        "**Shear**"
      ],
      "metadata": {
        "id": "KPXlKYDzO994"
      }
    },
    {
      "cell_type": "code",
      "source": [
        "Ts = np.array([[1, 1],\n",
        "              [0, 1]])\n",
        "Ts"
      ],
      "metadata": {
        "colab": {
          "base_uri": "https://localhost:8080/"
        },
        "id": "8z9EhlcpOn3u",
        "outputId": "db78fd10-f2c5-4df1-97fe-a9a722113b7a"
      },
      "execution_count": null,
      "outputs": [
        {
          "output_type": "execute_result",
          "data": {
            "text/plain": [
              "array([[1, 1],\n",
              "       [0, 1]])"
            ]
          },
          "metadata": {},
          "execution_count": 18
        }
      ]
    },
    {
      "cell_type": "markdown",
      "source": [
        "##**7**"
      ],
      "metadata": {
        "id": "NSjnopsqPhL1"
      }
    },
    {
      "cell_type": "code",
      "source": [
        "np.linalg.det(np.array([[2,-1],\n",
        "                        [3, -5]]))"
      ],
      "metadata": {
        "colab": {
          "base_uri": "https://localhost:8080/"
        },
        "id": "2oZDl0FAPjaj",
        "outputId": "c46b1e07-6f58-4b17-d866-536bb68421c8"
      },
      "execution_count": null,
      "outputs": [
        {
          "output_type": "execute_result",
          "data": {
            "text/plain": [
              "-6.999999999999999"
            ]
          },
          "metadata": {},
          "execution_count": 19
        }
      ]
    },
    {
      "cell_type": "code",
      "source": [
        "np.linalg.det(np.array([[1,3, -2],\n",
        "                        [0, 1, 4],\n",
        "                        [0, 1, 1]]))"
      ],
      "metadata": {
        "colab": {
          "base_uri": "https://localhost:8080/"
        },
        "id": "ViRu7fnxPoaY",
        "outputId": "8e54ed75-1381-428f-86af-0f8e8f7b3c61"
      },
      "execution_count": null,
      "outputs": [
        {
          "output_type": "execute_result",
          "data": {
            "text/plain": [
              "-3.0000000000000004"
            ]
          },
          "metadata": {},
          "execution_count": 20
        }
      ]
    },
    {
      "cell_type": "code",
      "source": [
        "np.linalg.det(np.array([[12,3, 1],\n",
        "                        [2, 0, 2],\n",
        "                        [18, 0, 1]]))"
      ],
      "metadata": {
        "colab": {
          "base_uri": "https://localhost:8080/"
        },
        "id": "Id0e8oiaPqkV",
        "outputId": "c9b6cdf2-18c5-43d3-c952-263b56563005"
      },
      "execution_count": null,
      "outputs": [
        {
          "output_type": "execute_result",
          "data": {
            "text/plain": [
              "102.00000000000004"
            ]
          },
          "metadata": {},
          "execution_count": 21
        }
      ]
    },
    {
      "cell_type": "code",
      "source": [
        "np.linalg.det(np.array([[1, 2, 3],\n",
        "          [3, 6, 9]]))\n"
      ],
      "metadata": {
        "id": "xtyUkwTuPrqt"
      },
      "execution_count": null,
      "outputs": []
    },
    {
      "cell_type": "markdown",
      "source": [
        "**has no determinant, as the matrix is not square**"
      ],
      "metadata": {
        "id": "C2-FiIEkQb62"
      }
    },
    {
      "cell_type": "markdown",
      "source": [
        "##**8**"
      ],
      "metadata": {
        "id": "Cwk7pyXhQg1N"
      }
    },
    {
      "cell_type": "code",
      "source": [
        "np.linalg.inv(np.array([[2,-1],\n",
        "                        [3, -5]]))"
      ],
      "metadata": {
        "colab": {
          "base_uri": "https://localhost:8080/"
        },
        "id": "3cU-311lPvz3",
        "outputId": "9d1d2266-f4a4-426e-854d-32a48e70a40c"
      },
      "execution_count": null,
      "outputs": [
        {
          "output_type": "execute_result",
          "data": {
            "text/plain": [
              "array([[ 0.71428571, -0.14285714],\n",
              "       [ 0.42857143, -0.28571429]])"
            ]
          },
          "metadata": {},
          "execution_count": 23
        }
      ]
    },
    {
      "cell_type": "code",
      "source": [
        "np.linalg.inv(np.array([[1,3, -2],\n",
        "                        [0, 1, 4],\n",
        "                        [0, 1, 1]]))"
      ],
      "metadata": {
        "colab": {
          "base_uri": "https://localhost:8080/"
        },
        "id": "kiYbBLeOQnGo",
        "outputId": "7fb9697e-dea6-4b36-ef8c-57aa5f69e5d1"
      },
      "execution_count": null,
      "outputs": [
        {
          "output_type": "execute_result",
          "data": {
            "text/plain": [
              "array([[ 1.        ,  1.66666667, -4.66666667],\n",
              "       [ 0.        , -0.33333333,  1.33333333],\n",
              "       [-0.        ,  0.33333333, -0.33333333]])"
            ]
          },
          "metadata": {},
          "execution_count": 24
        }
      ]
    },
    {
      "cell_type": "code",
      "source": [
        "np.linalg.inv(np.array([[12,3, 1],\n",
        "                        [2, 0, 2],\n",
        "                        [18, 0, 1]]))"
      ],
      "metadata": {
        "colab": {
          "base_uri": "https://localhost:8080/"
        },
        "id": "SQwe8L6GQoQ9",
        "outputId": "231b7a6f-2844-48f8-9871-67d4619a62ca"
      },
      "execution_count": null,
      "outputs": [
        {
          "output_type": "execute_result",
          "data": {
            "text/plain": [
              "array([[ 0.        , -0.02941176,  0.05882353],\n",
              "       [ 0.33333333, -0.05882353, -0.21568627],\n",
              "       [ 0.        ,  0.52941176, -0.05882353]])"
            ]
          },
          "metadata": {},
          "execution_count": 25
        }
      ]
    },
    {
      "cell_type": "code",
      "source": [
        "np.linalg.inv(np.array([[1, 2, 3],\n",
        "          [3, 6, 9]]))"
      ],
      "metadata": {
        "id": "j47zn8HFQqEa"
      },
      "execution_count": null,
      "outputs": []
    },
    {
      "cell_type": "markdown",
      "source": [
        "**The matrix has no inverse,becuase it has no determinant**"
      ],
      "metadata": {
        "id": "Mfzps29zRKBY"
      }
    },
    {
      "cell_type": "code",
      "source": [],
      "metadata": {
        "id": "1upJS6IcQvTu"
      },
      "execution_count": null,
      "outputs": []
    }
  ]
}