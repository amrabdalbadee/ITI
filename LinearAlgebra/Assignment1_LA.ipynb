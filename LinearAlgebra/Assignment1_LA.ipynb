{
  "nbformat": 4,
  "nbformat_minor": 0,
  "metadata": {
    "colab": {
      "provenance": []
    },
    "kernelspec": {
      "name": "python3",
      "display_name": "Python 3"
    },
    "language_info": {
      "name": "python"
    }
  },
  "cells": [
    {
      "cell_type": "markdown",
      "source": [
        "#**QUIZ**"
      ],
      "metadata": {
        "id": "5BqKdpPgKsl0"
      }
    },
    {
      "cell_type": "code",
      "execution_count": 72,
      "metadata": {
        "colab": {
          "base_uri": "https://localhost:8080/"
        },
        "id": "PhYoOFebKsFf",
        "outputId": "8ef79d30-da79-41ba-82ba-f6b0eb7a9a3d"
      },
      "outputs": [
        {
          "output_type": "stream",
          "name": "stdout",
          "text": [
            "[[ 16  -9]\n",
            " [  3 -10]\n",
            " [  3   0]]\n",
            "[[ 16  -9]\n",
            " [  3 -10]\n",
            " [  3   0]]\n",
            "[[ 16  -9]\n",
            " [  3 -10]\n",
            " [  3   0]]\n"
          ]
        }
      ],
      "source": [
        "import numpy as np\n",
        "from sklearn.metrics import mean_absolute_error, mean_squared_error\n",
        "import sympy as sm\n",
        "\n",
        "A = np.array([[2,1,3],\n",
        "     [3,-2,1],\n",
        "     [-1,0,1]])\n",
        "B = np.array([[1,-2],\n",
        "     [2,1],\n",
        "     [4,-2]])\n",
        "C = np.matmul(A, B)\n",
        "C\n",
        "D = A@B\n",
        "D\n",
        "E = np.dot(A,B)\n",
        "print(C)\n",
        "print(D)\n",
        "print(E)"
      ]
    },
    {
      "cell_type": "markdown",
      "source": [
        "#**Exercise 1**"
      ],
      "metadata": {
        "id": "A33tAXOILf0F"
      }
    },
    {
      "cell_type": "code",
      "source": [
        "A = np.array([[0,1,1],\n",
        "     [1,0,1],\n",
        "     [1,1,0]])\n",
        "B = np.array([[0,2,3],\n",
        "     [0,5,0],\n",
        "     [7,0,0]])\n",
        "\n",
        "C = np.multiply(A,B)\n",
        "print(C)\n",
        "D = A*B\n",
        "print(D)"
      ],
      "metadata": {
        "colab": {
          "base_uri": "https://localhost:8080/"
        },
        "id": "5f-c2FdtLR3L",
        "outputId": "c02abcf8-737a-44c5-a3d1-ab620821507c"
      },
      "execution_count": 54,
      "outputs": [
        {
          "output_type": "stream",
          "name": "stdout",
          "text": [
            "[[0 2 3]\n",
            " [0 0 0]\n",
            " [7 0 0]]\n",
            "[[0 2 3]\n",
            " [0 0 0]\n",
            " [7 0 0]]\n"
          ]
        }
      ]
    },
    {
      "cell_type": "code",
      "source": [
        "D = A + B\n",
        "D"
      ],
      "metadata": {
        "colab": {
          "base_uri": "https://localhost:8080/"
        },
        "id": "lDgv_qN4Okwn",
        "outputId": "220ae0a4-0b34-4bfa-dd18-bee28acd102f"
      },
      "execution_count": 6,
      "outputs": [
        {
          "output_type": "execute_result",
          "data": {
            "text/plain": [
              "array([[0, 3, 4],\n",
              "       [1, 5, 1],\n",
              "       [8, 1, 0]])"
            ]
          },
          "metadata": {},
          "execution_count": 6
        }
      ]
    },
    {
      "cell_type": "code",
      "source": [
        "E = np.transpose(A)\n",
        "E"
      ],
      "metadata": {
        "colab": {
          "base_uri": "https://localhost:8080/"
        },
        "id": "4696tt1bOsNl",
        "outputId": "781043b7-a21e-4851-e5c8-e39c6cdf46ea"
      },
      "execution_count": 7,
      "outputs": [
        {
          "output_type": "execute_result",
          "data": {
            "text/plain": [
              "array([[0, 1, 1],\n",
              "       [1, 0, 1],\n",
              "       [1, 1, 0]])"
            ]
          },
          "metadata": {},
          "execution_count": 7
        }
      ]
    },
    {
      "cell_type": "code",
      "source": [
        "F = A[1]\n",
        "print(F)"
      ],
      "metadata": {
        "colab": {
          "base_uri": "https://localhost:8080/"
        },
        "id": "oUC7nGgTOzUW",
        "outputId": "e17e2dc8-800f-4355-a6c8-4f83aeca15cb"
      },
      "execution_count": 9,
      "outputs": [
        {
          "output_type": "stream",
          "name": "stdout",
          "text": [
            "[1 0 1]\n"
          ]
        }
      ]
    },
    {
      "cell_type": "code",
      "source": [
        "a = A[:,-1]\n",
        "b = B[-1]\n",
        "c = a + b\n",
        "print(a)\n",
        "print(b)\n",
        "print(\"a + b is \",c)"
      ],
      "metadata": {
        "colab": {
          "base_uri": "https://localhost:8080/"
        },
        "id": "xv6N7ZssPSe9",
        "outputId": "d3162a1b-c197-43cf-dd95-7c89e6c99ac6"
      },
      "execution_count": 12,
      "outputs": [
        {
          "output_type": "stream",
          "name": "stdout",
          "text": [
            "[1 1 0]\n",
            "[7 0 0]\n",
            "a + b is  [8 1 0]\n"
          ]
        }
      ]
    },
    {
      "cell_type": "markdown",
      "source": [
        "#**Exercise 2**"
      ],
      "metadata": {
        "id": "CVCgl0EpP3aZ"
      }
    },
    {
      "cell_type": "markdown",
      "source": [
        "Any norm above 2 aren't working with vertical and horizontal matrices"
      ],
      "metadata": {
        "id": "AhfkoLHT5PFV"
      }
    },
    {
      "cell_type": "code",
      "source": [
        "v = np.array([[2],\n",
        "           [4],\n",
        "           [1]])\n",
        "u = np.array([[1],\n",
        "            [3],\n",
        "            [5]])\n",
        "\n",
        "#v = np.array([2,4,1])\n",
        "#v = np.array([[1,3,5]])\n",
        "t = np.dot(u.reshape(1,3),v)\n",
        "l = u.reshape(1,3)@v\n",
        "print(t)\n",
        "print(l)"
      ],
      "metadata": {
        "colab": {
          "base_uri": "https://localhost:8080/"
        },
        "id": "fSC_2VIQPl3m",
        "outputId": "45f69ed7-241d-41cf-b86e-82eea4c63c8d"
      },
      "execution_count": 74,
      "outputs": [
        {
          "output_type": "stream",
          "name": "stdout",
          "text": [
            "[[19]]\n",
            "[[19]]\n"
          ]
        }
      ]
    },
    {
      "cell_type": "code",
      "source": [
        "from math import inf\n",
        "\n",
        "vl1 = np.linalg.norm(v,1)\n",
        "print(\"norm 1 is\",vl1)\n",
        "vl2 = np.linalg.norm(v,2)\n",
        "print(\"norm 2 is\",vl2)\n",
        "vl3 = (v**3).sum(axis=1)**(1/3)\n",
        "print(\"norm 3 is\",vl3[0])\n",
        "vl4 = (v**4).sum(axis=1)**(1/4)\n",
        "print(\"norm 4 is\",vl4[0])\n",
        "vlmax = np.linalg.norm(v,inf)\n",
        "print(\"norm max is\",vlmax)"
      ],
      "metadata": {
        "colab": {
          "base_uri": "https://localhost:8080/"
        },
        "id": "VPflsr38QUHz",
        "outputId": "e26cbddc-809e-4c9e-e595-704787e6a92b"
      },
      "execution_count": 75,
      "outputs": [
        {
          "output_type": "stream",
          "name": "stdout",
          "text": [
            "norm 1 is 7.0\n",
            "norm 2 is 4.58257569495584\n",
            "norm 3 is 2.0\n",
            "norm 4 is 2.0\n",
            "norm max is 4.0\n"
          ]
        }
      ]
    },
    {
      "cell_type": "code",
      "source": [
        "ul1 = np.linalg.norm(u,1)\n",
        "print(\"norm 1 is\",ul1)\n",
        "ul2 = np.linalg.norm(u,2)\n",
        "print(\"norm 2 is\",ul2)\n",
        "ul3 = (u**3).sum(axis=1)**(1/3)\n",
        "print(\"norm 3 is\",ul3[0])\n",
        "ul4 = (u**4).sum(axis=1)**(1/4)\n",
        "print(\"norm 4 is\",ul4[0])\n",
        "ulmax = np.linalg.norm(u,inf)\n",
        "print(\"norm max is\",ulmax)"
      ],
      "metadata": {
        "colab": {
          "base_uri": "https://localhost:8080/"
        },
        "id": "jpeYFVXvUEJH",
        "outputId": "ccf7011a-2862-4e7d-cf5e-4714db2b2269"
      },
      "execution_count": 76,
      "outputs": [
        {
          "output_type": "stream",
          "name": "stdout",
          "text": [
            "norm 1 is 9.0\n",
            "norm 2 is 5.916079783099616\n",
            "norm 3 is 1.0\n",
            "norm 4 is 1.0\n",
            "norm max is 5.0\n"
          ]
        }
      ]
    },
    {
      "cell_type": "code",
      "source": [
        "k = v + u \n",
        "print(k)\n",
        "kl1 = np.linalg.norm(k,1)\n",
        "print(\"norm 1 is\",kl1)\n",
        "kl2 = np.linalg.norm(k,2)\n",
        "print(\"norm 2 is\",kl2)\n",
        "kl3 = (k**3).sum(axis=0)**(1/3)\n",
        "print(\"norm 3 is\",kl3[0])\n",
        "kl4 = (k**4).sum(axis=0)**(1/4)\n",
        "print(\"norm 4 is\",kl4[0])\n",
        "klmax = np.linalg.norm(k,inf)\n",
        "print(\"norm max is\",klmax)"
      ],
      "metadata": {
        "colab": {
          "base_uri": "https://localhost:8080/"
        },
        "id": "JWCodpcqUggx",
        "outputId": "2c7a77ff-b53f-4c04-f389-dace68700fd8"
      },
      "execution_count": 80,
      "outputs": [
        {
          "output_type": "stream",
          "name": "stdout",
          "text": [
            "[[3]\n",
            " [7]\n",
            " [6]]\n",
            "norm 1 is 16.0\n",
            "norm 2 is 9.695359714832659\n",
            "norm 3 is 8.368209391204644\n",
            "norm 4 is 7.839989632806745\n",
            "norm max is 7.0\n"
          ]
        }
      ]
    },
    {
      "cell_type": "markdown",
      "source": [
        "#**Exercise 3**"
      ],
      "metadata": {
        "id": "PLR2LgibjsuE"
      }
    },
    {
      "cell_type": "code",
      "source": [
        "import sympy as sm\n",
        "from sympy import *\n",
        "\n",
        "A = np.array([[2,3,1],[10,9,11]])\n",
        "A = Matrix(A)\n",
        "\n",
        "B = np.array([[2,-4,6],[-1,5,0]])\n",
        "B = Matrix(B)\n",
        "\n",
        "print(A.rref())\n",
        "print(\"---------------------------------------------\")\n",
        "print(B.rref())"
      ],
      "metadata": {
        "colab": {
          "base_uri": "https://localhost:8080/"
        },
        "id": "XALE41BVUp9o",
        "outputId": "00502132-bd49-4a65-83eb-b947bdab4b00"
      },
      "execution_count": 88,
      "outputs": [
        {
          "output_type": "stream",
          "name": "stdout",
          "text": [
            "(Matrix([\n",
            "[1, 0,  2],\n",
            "[0, 1, -1]]), (0, 1))\n",
            "---------------------------------------------\n",
            "(Matrix([\n",
            "[1, 0, 5],\n",
            "[0, 1, 1]]), (0, 1))\n"
          ]
        }
      ]
    },
    {
      "cell_type": "code",
      "source": [
        "C = np.array([[1, 1, 0],\n",
        "               [1, 2, 1],\n",
        "               [0, 1, 2]])\n",
        "\n",
        "C = Matrix(C)\n",
        "C.rref()"
      ],
      "metadata": {
        "colab": {
          "base_uri": "https://localhost:8080/"
        },
        "id": "54WHVOz6BegF",
        "outputId": "522de59b-324e-48c7-a9d0-33470ec6dafc"
      },
      "execution_count": 89,
      "outputs": [
        {
          "output_type": "execute_result",
          "data": {
            "text/plain": [
              "(Matrix([\n",
              " [1, 0, 0],\n",
              " [0, 1, 0],\n",
              " [0, 0, 1]]), (0, 1, 2))"
            ]
          },
          "metadata": {},
          "execution_count": 89
        }
      ]
    },
    {
      "cell_type": "code",
      "source": [
        "D = Matrix(([[1, 1, 1, 7],\n",
        "               [1, 1, -1, 5],\n",
        "               [1, -1, 1, 3]]))\n",
        "\n",
        "E = Matrix([[1, 1, 1, 7],\n",
        "               [1, 1, -1, 5],\n",
        "               [-1, -1, 1, 3]])\n",
        "D.rref()"
      ],
      "metadata": {
        "colab": {
          "base_uri": "https://localhost:8080/"
        },
        "id": "mNj-AkEJECzx",
        "outputId": "3cdcb757-0f9e-4809-8d85-b2500bd18b52"
      },
      "execution_count": 90,
      "outputs": [
        {
          "output_type": "execute_result",
          "data": {
            "text/plain": [
              "(Matrix([\n",
              " [1, 0, 0, 4],\n",
              " [0, 1, 0, 2],\n",
              " [0, 0, 1, 1]]), (0, 1, 2))"
            ]
          },
          "metadata": {},
          "execution_count": 90
        }
      ]
    },
    {
      "cell_type": "code",
      "source": [
        "E.rref()"
      ],
      "metadata": {
        "colab": {
          "base_uri": "https://localhost:8080/"
        },
        "id": "h_dpOPn_FtBD",
        "outputId": "59786e4b-9a48-4bba-ec0d-f3e3cf42a27d"
      },
      "execution_count": 92,
      "outputs": [
        {
          "output_type": "execute_result",
          "data": {
            "text/plain": [
              "(Matrix([\n",
              " [1, 1, 0, 0],\n",
              " [0, 0, 1, 0],\n",
              " [0, 0, 0, 1]]), (0, 2, 3))"
            ]
          },
          "metadata": {},
          "execution_count": 92
        }
      ]
    },
    {
      "cell_type": "code",
      "source": [],
      "metadata": {
        "id": "qhIOplfDFvQz"
      },
      "execution_count": null,
      "outputs": []
    }
  ]
}