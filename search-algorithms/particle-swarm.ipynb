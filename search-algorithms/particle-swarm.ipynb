{
 "cells": [
  {
   "cell_type": "code",
   "execution_count": 7,
   "id": "1cc4e045",
   "metadata": {},
   "outputs": [],
   "source": [
    "import numpy as np \n",
    "\n",
    "#problem definition\n",
    "J = lambda x:(x[0]-2)**2 +(x[1]-4)**2\n",
    "nVar = 2\n",
    "VarSize = np.array([nVar,1])\n",
    "VarMin = [-5, -10]\n",
    "VarMax = [5, 10]\n",
    "bounds = np.column_stack((VarMin,VarMax))"
   ]
  },
  {
   "cell_type": "code",
   "execution_count": 5,
   "id": "83f8bae5",
   "metadata": {},
   "outputs": [],
   "source": [
    "#PSO parameters\n",
    "w = 1\n",
    "C1 = 2\n",
    "C2 = 2\n",
    "MaxIt = 100\n",
    "nPop = 50"
   ]
  },
  {
   "cell_type": "code",
   "execution_count": 15,
   "id": "db2eed90",
   "metadata": {},
   "outputs": [],
   "source": [
    "class Particle:\n",
    "    def __init__(self,bounds,varsize,j):\n",
    "        self.position = np.random.uniform(bounds[:,0],bounds[:,1]).reshape(VarSize)\n",
    "        self.velocity = np.zeros(VarSize)\n",
    "        self.cost = J(self.position)\n",
    "        self.best_cost = self.cost\n",
    "        self.best_position=self.position.copy()\n",
    "        \n",
    "class GlobalParticle:\n",
    "    def __init__(self):\n",
    "        self.positions = []\n",
    "        self.cost = np.Inf"
   ]
  },
  {
   "cell_type": "code",
   "execution_count": 16,
   "id": "eeca2213",
   "metadata": {},
   "outputs": [],
   "source": [
    "#Initialization\n",
    "GlobalBest = GlobalParticle()\n",
    "particles = [None]*nPop\n",
    "for i in range(nPop):\n",
    "    particles[i]=Particle(bounds,VarSize,J)\n",
    "    if particles[i].cost < GlobalBest.cost:\n",
    "        GlobalBest.position = particles[i].position.copy()\n",
    "        GlobalBest.cost = particles[i].cost\n"
   ]
  },
  {
   "cell_type": "code",
   "execution_count": null,
   "id": "aaec4a34",
   "metadata": {},
   "outputs": [],
   "source": [
    "#Main Loop \n",
    "for It in range(MaxIt):\n",
    "    for particle in"
   ]
  }
 ],
 "metadata": {
  "kernelspec": {
   "display_name": "Python 3 (ipykernel)",
   "language": "python",
   "name": "python3"
  },
  "language_info": {
   "codemirror_mode": {
    "name": "ipython",
    "version": 3
   },
   "file_extension": ".py",
   "mimetype": "text/x-python",
   "name": "python",
   "nbconvert_exporter": "python",
   "pygments_lexer": "ipython3",
   "version": "3.10.9"
  }
 },
 "nbformat": 4,
 "nbformat_minor": 5
}
