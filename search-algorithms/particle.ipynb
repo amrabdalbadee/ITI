{
 "cells": [
  {
   "cell_type": "code",
   "execution_count": 6,
   "id": "1ca88684",
   "metadata": {},
   "outputs": [],
   "source": [
    "import numpy as np\n"
   ]
  },
  {
   "cell_type": "code",
   "execution_count": 25,
   "id": "829ef374",
   "metadata": {},
   "outputs": [],
   "source": [
    "#particle class \n",
    "class Particle:\n",
    "    def __init__(self, bounds,varSize,j):\n",
    "        self.position = np.random.uniform(bounds[:,0],bounds[:,1]).reshape(varSize)\n",
    "        self.velocity = np.zeros(varSize)\n",
    "        self.cost = j(self.position)\n",
    "        self.best_position = self.position.copy()\n",
    "        self.best_cost = self.cost\n",
    "class GlobalParticle:\n",
    "    def __init__(self):\n",
    "        self.position=[]\n",
    "        self.cost=np.inf\n",
    "        \n",
    "#     def update_best(self):\n",
    "#         if self.cost < self.best_cost:\n",
    "#             self.best_cost = self.cost\n",
    "#             self.best_position = self.position.copy()\n"
   ]
  },
  {
   "cell_type": "code",
   "execution_count": 24,
   "id": "38c4b9bd",
   "metadata": {},
   "outputs": [],
   "source": [
    "#problem  defenation\n",
    "\n",
    "#j min at x = 2 , 4\n",
    "j=lambda x:(x[0]-2)**2+(x[1]-4)**2\n",
    "nVariable=2\n",
    "varSize=np.array([nVariable,1])\n",
    "lower_bound = [-5,-10]\n",
    "upper_bound = [5,10]\n",
    "bounds=np.column_stack((lower_bound,upper_bound))\n"
   ]
  },
  {
   "cell_type": "code",
   "execution_count": 35,
   "id": "a43fa4b4",
   "metadata": {},
   "outputs": [],
   "source": [
    "#pso parameters\n",
    "w = 1\n",
    "c1 = 2\n",
    "c2 = 3\n",
    "max_iters= 100\n",
    "nPOP=50\n",
    "damp=0.9"
   ]
  },
  {
   "cell_type": "code",
   "execution_count": 26,
   "id": "f74ed429",
   "metadata": {},
   "outputs": [],
   "source": [
    "#initialization\n",
    "GlobalBest=GlobalParticle()\n",
    "particles=[None]*nPOP\n",
    "for i in range(nPOP):\n",
    "    particles[i]=Particle(bounds,varSize,j)\n",
    "    if particles[i].cost<GlobalBest.cost :\n",
    "        GlobalBest.position=particles[i].position.copy()\n",
    "        GlobalBest.cost=particles[i].cost"
   ]
  },
  {
   "cell_type": "code",
   "execution_count": 36,
   "id": "e607e9c6",
   "metadata": {},
   "outputs": [
    {
     "name": "stdout",
     "output_type": "stream",
     "text": [
      "0 [0.00790629]\n",
      "1 [0.00790629]\n",
      "2 [0.00790629]\n",
      "3 [0.00790629]\n",
      "4 [0.00790629]\n",
      "5 [0.00790629]\n",
      "6 [0.00790629]\n",
      "7 [0.00790629]\n",
      "8 [0.00790629]\n",
      "9 [0.00790629]\n",
      "10 [0.00790629]\n",
      "11 [0.00790629]\n",
      "12 [0.00790629]\n",
      "13 [0.00790629]\n",
      "14 [0.00790629]\n",
      "15 [0.00790629]\n",
      "16 [0.00790629]\n",
      "17 [0.00790629]\n",
      "18 [0.00790629]\n",
      "19 [0.00790629]\n",
      "20 [0.00790629]\n",
      "21 [0.00790629]\n",
      "22 [0.00790629]\n",
      "23 [0.00790629]\n",
      "24 [0.00790629]\n",
      "25 [0.00790629]\n",
      "26 [0.00790629]\n",
      "27 [0.00790629]\n",
      "28 [0.00790629]\n",
      "29 [0.00790629]\n",
      "30 [0.00790629]\n",
      "31 [0.00790629]\n",
      "32 [0.00790629]\n",
      "33 [0.00790629]\n",
      "34 [0.00790629]\n",
      "35 [0.00790629]\n",
      "36 [0.00790629]\n",
      "37 [0.00790629]\n",
      "38 [0.00790629]\n",
      "39 [0.00790629]\n",
      "40 [0.00790629]\n",
      "41 [0.00790629]\n",
      "42 [0.00790629]\n",
      "43 [0.00790629]\n",
      "44 [0.00790629]\n",
      "45 [0.00790629]\n",
      "46 [0.00790629]\n",
      "47 [0.00790629]\n",
      "48 [0.00790629]\n",
      "49 [0.00790629]\n",
      "50 [0.00790629]\n",
      "51 [0.00790629]\n",
      "52 [0.00790629]\n",
      "53 [0.00790629]\n",
      "54 [0.00790629]\n",
      "55 [0.00790629]\n",
      "56 [0.00790629]\n",
      "57 [0.00790629]\n",
      "58 [0.00790629]\n",
      "59 [0.00790629]\n",
      "60 [0.00790629]\n",
      "61 [0.00790629]\n",
      "62 [0.00790629]\n",
      "63 [0.00790629]\n",
      "64 [0.00790629]\n",
      "65 [0.00790629]\n",
      "66 [0.00790629]\n",
      "67 [0.00790629]\n",
      "68 [0.00790629]\n",
      "69 [0.00790629]\n",
      "70 [0.00790629]\n",
      "71 [0.00790629]\n",
      "72 [0.00790629]\n",
      "73 [0.00790629]\n",
      "74 [0.00790629]\n",
      "75 [0.00790629]\n",
      "76 [0.00790629]\n",
      "77 [0.00790629]\n",
      "78 [0.00790629]\n",
      "79 [0.00790629]\n",
      "80 [0.00790629]\n",
      "81 [0.00790629]\n",
      "82 [0.00790629]\n",
      "83 [0.00613028]\n",
      "84 [0.0061301]\n",
      "85 [0.00603608]\n",
      "86 [0.00603605]\n",
      "87 [0.00602365]\n",
      "88 [0.00599981]\n",
      "89 [0.0059998]\n",
      "90 [0.00597921]\n",
      "91 [0.00597135]\n",
      "92 [0.00596818]\n",
      "93 [0.00596818]\n",
      "94 [0.00596048]\n",
      "95 [0.00596024]\n",
      "96 [0.00596024]\n",
      "97 [0.0059602]\n",
      "98 [0.00596017]\n",
      "99 [0.00596014]\n"
     ]
    }
   ],
   "source": [
    "#main loop\n",
    "for it in range (max_iters):\n",
    "    for i in range (nPOP):\n",
    "        particles[i].velocity=w*particles[i].velocity+ \\\n",
    "        c1*np.random.rand()*(particles[i].best_position-particles[i].position)+ \\\n",
    "        c2*np.random.rand()*(GlobalBest.position-particles[i].position)\n",
    "        particles[i].position=particles[i].position+particles[i].velocity\n",
    "        particles[i].cost=j(particles[i].position)\n",
    "        if particles[i].cost <particles[i].best_cost :\n",
    "            particles[i].best_cost=particles[i].cost\n",
    "            particles[i].best_position=particles[i].position.copy()\n",
    "            if particles[i].cost<GlobalBest.cost :\n",
    "                GlobalBest.position=particles[i].position.copy()\n",
    "                GlobalBest.cost=particles[i].cost\n",
    "    w=w*damp                \n",
    "    print(it,GlobalBest.cost)                "
   ]
  },
  {
   "cell_type": "code",
   "execution_count": 37,
   "id": "40d71c63",
   "metadata": {},
   "outputs": [
    {
     "name": "stdout",
     "output_type": "stream",
     "text": [
      "[[1.94247135]\n",
      " [4.05148396]]\n"
     ]
    }
   ],
   "source": [
    "#result\n",
    "print(GlobalBest.position)"
   ]
  }
 ],
 "metadata": {
  "kernelspec": {
   "display_name": "Python 3 (ipykernel)",
   "language": "python",
   "name": "python3"
  },
  "language_info": {
   "codemirror_mode": {
    "name": "ipython",
    "version": 3
   },
   "file_extension": ".py",
   "mimetype": "text/x-python",
   "name": "python",
   "nbconvert_exporter": "python",
   "pygments_lexer": "ipython3",
   "version": "3.9.7"
  }
 },
 "nbformat": 4,
 "nbformat_minor": 5
}
